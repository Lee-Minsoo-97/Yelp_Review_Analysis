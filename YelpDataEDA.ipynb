{
  "nbformat": 4,
  "nbformat_minor": 0,
  "metadata": {
    "colab": {
      "provenance": [],
      "machine_shape": "hm",
      "gpuType": "L4",
      "toc_visible": true,
      "include_colab_link": true
    },
    "kernelspec": {
      "name": "python3",
      "display_name": "Python 3"
    },
    "language_info": {
      "name": "python"
    },
    "accelerator": "GPU"
  },
  "cells": [
    {
      "cell_type": "markdown",
      "metadata": {
        "id": "view-in-github",
        "colab_type": "text"
      },
      "source": [
        "<a href=\"https://colab.research.google.com/github/Lee-Minsoo-97/Yelp_Review_Analysis/blob/main/YelpDataEDA.ipynb\" target=\"_parent\"><img src=\"https://colab.research.google.com/assets/colab-badge.svg\" alt=\"Open In Colab\"/></a>"
      ]
    },
    {
      "cell_type": "markdown",
      "source": [
        "## 1.Yelp Data EDA\n"
      ],
      "metadata": {
        "id": "uOlQqTl0MlkR"
      }
    },
    {
      "cell_type": "markdown",
      "source": [
        "### 2. Summary of Project\n",
        "\n",
        "Here I am analyzing Yelp reviews of Taco Bell and Chipotle to identify key factors influencing consumer choices between these two fast-food chains. Using natural language processing and sentiment analysis, we aim to uncover trends in customer preferences, common complaints, and brand perceptions. A key focus of our study is to determine whether consumers explicitly prefer Chipotle for health-related reasons. While both brands offer Mexican-inspired fast food, Taco Bell is known for affordability and indulgence, whereas Chipotle is perceived as a fresher, more premium, and healthier alternative. Our findings will provide valuable insights into customer decision-making and help inform marketing and service strategies in the fast-casual and quick-service restaurant industry."
      ],
      "metadata": {
        "id": "iAYBk1ekNoI6"
      }
    },
    {
      "cell_type": "markdown",
      "source": [
        "## 3.Data Sources\n",
        "\n",
        "Yelp Dataset: https://business.yelp.com/data/resources/open-dataset/\n",
        "\n",
        "- Using the business_df, choose only Chipotle and Taco Bell and using business_id column, extract reviews in review_df.\n",
        "\n"
      ],
      "metadata": {
        "id": "a9IW0K9cN_Yc"
      }
    },
    {
      "cell_type": "code",
      "execution_count": null,
      "metadata": {
        "id": "v8WYzkdoTcSs"
      },
      "outputs": [],
      "source": [
        "import pandas as pd\n",
        "import spacy\n",
        "import seaborn as sns\n",
        "import matplotlib.pyplot as plt"
      ]
    },
    {
      "cell_type": "code",
      "source": [
        "!python -m spacy download en_core_web_lg"
      ],
      "metadata": {
        "colab": {
          "base_uri": "https://localhost:8080/"
        },
        "id": "_mv8-F1RoMZK",
        "outputId": "343247ce-6da9-4a0f-bd4f-baa2d237b028"
      },
      "execution_count": null,
      "outputs": [
        {
          "output_type": "stream",
          "name": "stdout",
          "text": [
            "Collecting en-core-web-lg==3.7.1\n",
            "  Downloading https://github.com/explosion/spacy-models/releases/download/en_core_web_lg-3.7.1/en_core_web_lg-3.7.1-py3-none-any.whl (587.7 MB)\n",
            "\u001b[2K     \u001b[90m━━━━━━━━━━━━━━━━━━━━━━━━━━━━━━━━━━━━━━━━\u001b[0m \u001b[32m587.7/587.7 MB\u001b[0m \u001b[31m2.2 MB/s\u001b[0m eta \u001b[36m0:00:00\u001b[0m\n",
            "\u001b[?25hRequirement already satisfied: spacy<3.8.0,>=3.7.2 in /usr/local/lib/python3.11/dist-packages (from en-core-web-lg==3.7.1) (3.7.5)\n",
            "Requirement already satisfied: spacy-legacy<3.1.0,>=3.0.11 in /usr/local/lib/python3.11/dist-packages (from spacy<3.8.0,>=3.7.2->en-core-web-lg==3.7.1) (3.0.12)\n",
            "Requirement already satisfied: spacy-loggers<2.0.0,>=1.0.0 in /usr/local/lib/python3.11/dist-packages (from spacy<3.8.0,>=3.7.2->en-core-web-lg==3.7.1) (1.0.5)\n",
            "Requirement already satisfied: murmurhash<1.1.0,>=0.28.0 in /usr/local/lib/python3.11/dist-packages (from spacy<3.8.0,>=3.7.2->en-core-web-lg==3.7.1) (1.0.12)\n",
            "Requirement already satisfied: cymem<2.1.0,>=2.0.2 in /usr/local/lib/python3.11/dist-packages (from spacy<3.8.0,>=3.7.2->en-core-web-lg==3.7.1) (2.0.11)\n",
            "Requirement already satisfied: preshed<3.1.0,>=3.0.2 in /usr/local/lib/python3.11/dist-packages (from spacy<3.8.0,>=3.7.2->en-core-web-lg==3.7.1) (3.0.9)\n",
            "Requirement already satisfied: thinc<8.3.0,>=8.2.2 in /usr/local/lib/python3.11/dist-packages (from spacy<3.8.0,>=3.7.2->en-core-web-lg==3.7.1) (8.2.5)\n",
            "Requirement already satisfied: wasabi<1.2.0,>=0.9.1 in /usr/local/lib/python3.11/dist-packages (from spacy<3.8.0,>=3.7.2->en-core-web-lg==3.7.1) (1.1.3)\n",
            "Requirement already satisfied: srsly<3.0.0,>=2.4.3 in /usr/local/lib/python3.11/dist-packages (from spacy<3.8.0,>=3.7.2->en-core-web-lg==3.7.1) (2.5.1)\n",
            "Requirement already satisfied: catalogue<2.1.0,>=2.0.6 in /usr/local/lib/python3.11/dist-packages (from spacy<3.8.0,>=3.7.2->en-core-web-lg==3.7.1) (2.0.10)\n",
            "Requirement already satisfied: weasel<0.5.0,>=0.1.0 in /usr/local/lib/python3.11/dist-packages (from spacy<3.8.0,>=3.7.2->en-core-web-lg==3.7.1) (0.4.1)\n",
            "Requirement already satisfied: typer<1.0.0,>=0.3.0 in /usr/local/lib/python3.11/dist-packages (from spacy<3.8.0,>=3.7.2->en-core-web-lg==3.7.1) (0.15.1)\n",
            "Requirement already satisfied: tqdm<5.0.0,>=4.38.0 in /usr/local/lib/python3.11/dist-packages (from spacy<3.8.0,>=3.7.2->en-core-web-lg==3.7.1) (4.67.1)\n",
            "Requirement already satisfied: requests<3.0.0,>=2.13.0 in /usr/local/lib/python3.11/dist-packages (from spacy<3.8.0,>=3.7.2->en-core-web-lg==3.7.1) (2.32.3)\n",
            "Requirement already satisfied: pydantic!=1.8,!=1.8.1,<3.0.0,>=1.7.4 in /usr/local/lib/python3.11/dist-packages (from spacy<3.8.0,>=3.7.2->en-core-web-lg==3.7.1) (2.10.6)\n",
            "Requirement already satisfied: jinja2 in /usr/local/lib/python3.11/dist-packages (from spacy<3.8.0,>=3.7.2->en-core-web-lg==3.7.1) (3.1.5)\n",
            "Requirement already satisfied: setuptools in /usr/local/lib/python3.11/dist-packages (from spacy<3.8.0,>=3.7.2->en-core-web-lg==3.7.1) (75.1.0)\n",
            "Requirement already satisfied: packaging>=20.0 in /usr/local/lib/python3.11/dist-packages (from spacy<3.8.0,>=3.7.2->en-core-web-lg==3.7.1) (24.2)\n",
            "Requirement already satisfied: langcodes<4.0.0,>=3.2.0 in /usr/local/lib/python3.11/dist-packages (from spacy<3.8.0,>=3.7.2->en-core-web-lg==3.7.1) (3.5.0)\n",
            "Requirement already satisfied: numpy>=1.19.0 in /usr/local/lib/python3.11/dist-packages (from spacy<3.8.0,>=3.7.2->en-core-web-lg==3.7.1) (1.26.4)\n",
            "Requirement already satisfied: language-data>=1.2 in /usr/local/lib/python3.11/dist-packages (from langcodes<4.0.0,>=3.2.0->spacy<3.8.0,>=3.7.2->en-core-web-lg==3.7.1) (1.3.0)\n",
            "Requirement already satisfied: annotated-types>=0.6.0 in /usr/local/lib/python3.11/dist-packages (from pydantic!=1.8,!=1.8.1,<3.0.0,>=1.7.4->spacy<3.8.0,>=3.7.2->en-core-web-lg==3.7.1) (0.7.0)\n",
            "Requirement already satisfied: pydantic-core==2.27.2 in /usr/local/lib/python3.11/dist-packages (from pydantic!=1.8,!=1.8.1,<3.0.0,>=1.7.4->spacy<3.8.0,>=3.7.2->en-core-web-lg==3.7.1) (2.27.2)\n",
            "Requirement already satisfied: typing-extensions>=4.12.2 in /usr/local/lib/python3.11/dist-packages (from pydantic!=1.8,!=1.8.1,<3.0.0,>=1.7.4->spacy<3.8.0,>=3.7.2->en-core-web-lg==3.7.1) (4.12.2)\n",
            "Requirement already satisfied: charset-normalizer<4,>=2 in /usr/local/lib/python3.11/dist-packages (from requests<3.0.0,>=2.13.0->spacy<3.8.0,>=3.7.2->en-core-web-lg==3.7.1) (3.4.1)\n",
            "Requirement already satisfied: idna<4,>=2.5 in /usr/local/lib/python3.11/dist-packages (from requests<3.0.0,>=2.13.0->spacy<3.8.0,>=3.7.2->en-core-web-lg==3.7.1) (3.10)\n",
            "Requirement already satisfied: urllib3<3,>=1.21.1 in /usr/local/lib/python3.11/dist-packages (from requests<3.0.0,>=2.13.0->spacy<3.8.0,>=3.7.2->en-core-web-lg==3.7.1) (2.3.0)\n",
            "Requirement already satisfied: certifi>=2017.4.17 in /usr/local/lib/python3.11/dist-packages (from requests<3.0.0,>=2.13.0->spacy<3.8.0,>=3.7.2->en-core-web-lg==3.7.1) (2025.1.31)\n",
            "Requirement already satisfied: blis<0.8.0,>=0.7.8 in /usr/local/lib/python3.11/dist-packages (from thinc<8.3.0,>=8.2.2->spacy<3.8.0,>=3.7.2->en-core-web-lg==3.7.1) (0.7.11)\n",
            "Requirement already satisfied: confection<1.0.0,>=0.0.1 in /usr/local/lib/python3.11/dist-packages (from thinc<8.3.0,>=8.2.2->spacy<3.8.0,>=3.7.2->en-core-web-lg==3.7.1) (0.1.5)\n",
            "Requirement already satisfied: click>=8.0.0 in /usr/local/lib/python3.11/dist-packages (from typer<1.0.0,>=0.3.0->spacy<3.8.0,>=3.7.2->en-core-web-lg==3.7.1) (8.1.8)\n",
            "Requirement already satisfied: shellingham>=1.3.0 in /usr/local/lib/python3.11/dist-packages (from typer<1.0.0,>=0.3.0->spacy<3.8.0,>=3.7.2->en-core-web-lg==3.7.1) (1.5.4)\n",
            "Requirement already satisfied: rich>=10.11.0 in /usr/local/lib/python3.11/dist-packages (from typer<1.0.0,>=0.3.0->spacy<3.8.0,>=3.7.2->en-core-web-lg==3.7.1) (13.9.4)\n",
            "Requirement already satisfied: cloudpathlib<1.0.0,>=0.7.0 in /usr/local/lib/python3.11/dist-packages (from weasel<0.5.0,>=0.1.0->spacy<3.8.0,>=3.7.2->en-core-web-lg==3.7.1) (0.20.0)\n",
            "Requirement already satisfied: smart-open<8.0.0,>=5.2.1 in /usr/local/lib/python3.11/dist-packages (from weasel<0.5.0,>=0.1.0->spacy<3.8.0,>=3.7.2->en-core-web-lg==3.7.1) (7.1.0)\n",
            "Requirement already satisfied: MarkupSafe>=2.0 in /usr/local/lib/python3.11/dist-packages (from jinja2->spacy<3.8.0,>=3.7.2->en-core-web-lg==3.7.1) (3.0.2)\n",
            "Requirement already satisfied: marisa-trie>=1.1.0 in /usr/local/lib/python3.11/dist-packages (from language-data>=1.2->langcodes<4.0.0,>=3.2.0->spacy<3.8.0,>=3.7.2->en-core-web-lg==3.7.1) (1.2.1)\n",
            "Requirement already satisfied: markdown-it-py>=2.2.0 in /usr/local/lib/python3.11/dist-packages (from rich>=10.11.0->typer<1.0.0,>=0.3.0->spacy<3.8.0,>=3.7.2->en-core-web-lg==3.7.1) (3.0.0)\n",
            "Requirement already satisfied: pygments<3.0.0,>=2.13.0 in /usr/local/lib/python3.11/dist-packages (from rich>=10.11.0->typer<1.0.0,>=0.3.0->spacy<3.8.0,>=3.7.2->en-core-web-lg==3.7.1) (2.18.0)\n",
            "Requirement already satisfied: wrapt in /usr/local/lib/python3.11/dist-packages (from smart-open<8.0.0,>=5.2.1->weasel<0.5.0,>=0.1.0->spacy<3.8.0,>=3.7.2->en-core-web-lg==3.7.1) (1.17.2)\n",
            "Requirement already satisfied: mdurl~=0.1 in /usr/local/lib/python3.11/dist-packages (from markdown-it-py>=2.2.0->rich>=10.11.0->typer<1.0.0,>=0.3.0->spacy<3.8.0,>=3.7.2->en-core-web-lg==3.7.1) (0.1.2)\n",
            "Installing collected packages: en-core-web-lg\n",
            "Successfully installed en-core-web-lg-3.7.1\n",
            "\u001b[38;5;2m✔ Download and installation successful\u001b[0m\n",
            "You can now load the package via spacy.load('en_core_web_lg')\n",
            "\u001b[38;5;3m⚠ Restart to reload dependencies\u001b[0m\n",
            "If you are in a Jupyter or Colab notebook, you may need to restart Python in\n",
            "order to load all the package's dependencies. You can do this by selecting the\n",
            "'Restart kernel' or 'Restart runtime' option.\n"
          ]
        }
      ]
    },
    {
      "cell_type": "code",
      "source": [
        "from google.colab import drive\n",
        "drive.mount('/content/drive')"
      ],
      "metadata": {
        "colab": {
          "base_uri": "https://localhost:8080/"
        },
        "id": "vSAIZEEO0bxO",
        "outputId": "66d89ee2-4c92-409c-a520-dc3a6793a29b"
      },
      "execution_count": null,
      "outputs": [
        {
          "output_type": "stream",
          "name": "stdout",
          "text": [
            "Mounted at /content/drive\n"
          ]
        }
      ]
    },
    {
      "cell_type": "code",
      "source": [
        "#view max column and max rows in outputs\n",
        "pd.set_option('display.max_columns', None)\n",
        "pd.set_option('display.max_rows', None)"
      ],
      "metadata": {
        "id": "Dds0LVAuXb9d"
      },
      "execution_count": null,
      "outputs": []
    },
    {
      "cell_type": "code",
      "source": [
        "review_path =  '/content/drive/MyDrive/Colab Notebooks/Unstructed data/Project/review_output.csv'\n",
        "business_path = '/content/drive/MyDrive/Colab Notebooks/Unstructed data/Project/business_output.csv'"
      ],
      "metadata": {
        "id": "6NkOCDUKTe4R"
      },
      "execution_count": null,
      "outputs": []
    },
    {
      "cell_type": "markdown",
      "source": [
        "### Data Filtering/Sorting\n",
        "\n",
        "- Extracting chipotle data from the business data\n",
        "- Extracting Taco Bell data from the business data"
      ],
      "metadata": {
        "id": "_MLeB0vCPGnx"
      }
    },
    {
      "cell_type": "code",
      "source": [
        "review_df = pd.read_csv(review_path)"
      ],
      "metadata": {
        "id": "aGnYY9G2T_gL"
      },
      "execution_count": null,
      "outputs": []
    },
    {
      "cell_type": "code",
      "source": [
        "business_df = pd.read_csv(business_path)"
      ],
      "metadata": {
        "id": "01LGd2jKVp2u"
      },
      "execution_count": null,
      "outputs": []
    },
    {
      "cell_type": "code",
      "source": [
        "chipotle_b = business_df[business_df['name'].str.contains('Chipotle')]\n",
        "taco_b = business_df[business_df['name'].str.contains('Taco Bell')]"
      ],
      "metadata": {
        "id": "ZjA7kq7rRNax"
      },
      "execution_count": null,
      "outputs": []
    },
    {
      "cell_type": "code",
      "source": [
        "#taco_b.head(5)"
      ],
      "metadata": {
        "id": "7A67tzJ31cjf"
      },
      "execution_count": null,
      "outputs": []
    },
    {
      "cell_type": "markdown",
      "source": [
        "### Chipotle  and Taco Bell Overview"
      ],
      "metadata": {
        "id": "kGLBG2qnG-5H"
      }
    },
    {
      "cell_type": "code",
      "source": [
        "#chipotle_df.head(5)\n",
        "#taco_df.head(5)"
      ],
      "metadata": {
        "id": "8KU6JKfaSrh5"
      },
      "execution_count": null,
      "outputs": []
    },
    {
      "cell_type": "code",
      "source": [
        "# Checking unique names in 'name' column and find out what are unique names are\n",
        "\n",
        "print('Unique names in Chipotle:',chipotle_b['name'].nunique())\n",
        "print(chipotle_b['name'].unique())\n",
        "print(\"Both 'Chipotle Mexican Grill' and 'Chipotle' refer to same retuarant\")\n",
        "print()\n",
        "\n",
        "print('Unique names in Taco Bell:',taco_b['name'].nunique())\n",
        "print(taco_b['name'].unique())\n",
        "print(\"Need to delete 'Taco Bell Cantina'\")\n"
      ],
      "metadata": {
        "colab": {
          "base_uri": "https://localhost:8080/"
        },
        "id": "OyBUhznMVdA4",
        "outputId": "b5d9aae9-2b0e-4b9e-aa1c-569976aad5eb"
      },
      "execution_count": null,
      "outputs": [
        {
          "output_type": "stream",
          "name": "stdout",
          "text": [
            "Unique names in Chipotle: 2\n",
            "['Chipotle Mexican Grill' 'Chipotle']\n",
            "Both 'Chipotle Mexican Grill' and 'Chipotle' refer to same retuarant\n",
            "\n",
            "Unique names in Taco Bell: 2\n",
            "['Taco Bell' 'Taco Bell Cantina']\n",
            "Need to delete 'Taco Bell Cantina'\n"
          ]
        }
      ]
    },
    {
      "cell_type": "code",
      "source": [
        "# Removing row that contains 'Taco Bell Cantina' in column \"name\"\n",
        "\n",
        "taco_b = taco_b[taco_b['name'] != 'Taco Bell Cantina']"
      ],
      "metadata": {
        "id": "N8DHYb3ZIcCR"
      },
      "execution_count": null,
      "outputs": []
    },
    {
      "cell_type": "code",
      "source": [
        "# Shape of each dataset\n",
        "\n",
        "print('Shape of Chipotle:',chipotle_b.shape)\n",
        "print('Shape of Taco Bell:',taco_b.shape)"
      ],
      "metadata": {
        "colab": {
          "base_uri": "https://localhost:8080/"
        },
        "id": "212o2PS7JxEt",
        "outputId": "4cdd567f-be01-4e8b-d652-8b1e7b809ed3"
      },
      "execution_count": null,
      "outputs": [
        {
          "output_type": "stream",
          "name": "stdout",
          "text": [
            "Shape of Chipotle: (157, 14)\n",
            "Shape of Taco Bell: (365, 14)\n"
          ]
        }
      ]
    },
    {
      "cell_type": "code",
      "source": [
        "# Check na\n",
        "print(chipotle_b.isna().sum())\n",
        "print(taco_b.isna().sum())"
      ],
      "metadata": {
        "colab": {
          "base_uri": "https://localhost:8080/"
        },
        "id": "CPbuEtvMGS3p",
        "outputId": "b9fb50bb-78ac-4e04-ce82-3cf645cde6b4"
      },
      "execution_count": null,
      "outputs": [
        {
          "output_type": "stream",
          "name": "stdout",
          "text": [
            "business_id     0\n",
            "name            0\n",
            "address         0\n",
            "city            0\n",
            "state           0\n",
            "postal_code     0\n",
            "latitude        0\n",
            "longitude       0\n",
            "stars           0\n",
            "review_count    0\n",
            "is_open         0\n",
            "attributes      9\n",
            "categories      0\n",
            "hours           0\n",
            "dtype: int64\n",
            "business_id      0\n",
            "name             0\n",
            "address          0\n",
            "city             0\n",
            "state            0\n",
            "postal_code      0\n",
            "latitude         0\n",
            "longitude        0\n",
            "stars            0\n",
            "review_count     0\n",
            "is_open          0\n",
            "attributes       1\n",
            "categories       0\n",
            "hours           12\n",
            "dtype: int64\n"
          ]
        }
      ]
    },
    {
      "cell_type": "markdown",
      "source": [
        "### Removing some unnecessary columns\n",
        "\n",
        "- Only using business_id, name, stars, review_count"
      ],
      "metadata": {
        "id": "Qrc2QYatSjAk"
      }
    },
    {
      "cell_type": "code",
      "source": [
        "chipotle_b = chipotle_b[['business_id','name','stars','review_count']]\n",
        "taco_b = taco_b[['business_id','name','stars','review_count']]"
      ],
      "metadata": {
        "id": "8oDeVwcjTPEn"
      },
      "execution_count": null,
      "outputs": []
    },
    {
      "cell_type": "code",
      "source": [
        "print('Chipotle head 5')\n",
        "print(chipotle_b.head(5))\n",
        "\n",
        "print()\n",
        "print()\n",
        "print()\n",
        "print('Taco Bell head 5')\n",
        "print(taco_b.head(5))"
      ],
      "metadata": {
        "id": "ipxrFfDyYJmL",
        "colab": {
          "base_uri": "https://localhost:8080/"
        },
        "outputId": "c23c615f-138f-48f1-b3e8-c527fcb39c89"
      },
      "execution_count": null,
      "outputs": [
        {
          "output_type": "stream",
          "name": "stdout",
          "text": [
            "Chipotle head 5\n",
            "                 business_id                    name  stars  review_count\n",
            "153   aNtKyc2rr-uK5cqzY9TVQQ  Chipotle Mexican Grill    3.0            19\n",
            "2563  AmnnsJq4Pz1jJUFzHwtsOA  Chipotle Mexican Grill    3.0            65\n",
            "2898  UCCc31J4N8Y57RuzmInjyw  Chipotle Mexican Grill    3.0            35\n",
            "3008  C3Nc7EUqo64jRPWPn6vY9w  Chipotle Mexican Grill    2.5            73\n",
            "4891  2wEnpf2eu98rcYc540UN3Q  Chipotle Mexican Grill    3.5            14\n",
            "\n",
            "\n",
            "\n",
            "Taco Bell head 5\n",
            "                 business_id       name  stars  review_count\n",
            "1067  H2nFgEFitRk7ltE8IRH0xA  Taco Bell    2.5            42\n",
            "1191  i8UZblHPk2O-iNKJrnWQ_Q  Taco Bell    2.5            26\n",
            "2150  YWcH3SLyRIBHIBBgudqZLw  Taco Bell    1.5             8\n",
            "3007  c6xp1swmd-_P87kt3xggDA  Taco Bell    1.0            16\n",
            "3321  X8k7N03buo2bBbUUfcAltQ  Taco Bell    1.5            38\n"
          ]
        }
      ]
    },
    {
      "cell_type": "code",
      "source": [
        "# Extract Chipotle and Taco Bell in review_df by matching with business_id\n",
        "chipotle_r = review_df[review_df['business_id'].isin(chipotle_b['business_id'])]\n",
        "\n",
        "# Create extra column name \"Name\" in \"chipotle_r\" and fill it all the entites as \"Chipotle\"\n",
        "chipotle_r['name'] = 'Chipotle'\n",
        "\n",
        "taco_r = review_df[review_df['business_id'].isin(taco_b['business_id'])]\n",
        "\n",
        "# Create extra column name \"Name\" in \"taco_r\" and fill it all the entites as \"TacoBell\"\n",
        "taco_r['name'] = 'Taco Bell'"
      ],
      "metadata": {
        "id": "34yWzha_UB5V",
        "colab": {
          "base_uri": "https://localhost:8080/"
        },
        "outputId": "a85e41e9-1e65-436e-d846-0b733d44c1ee"
      },
      "execution_count": null,
      "outputs": [
        {
          "output_type": "stream",
          "name": "stderr",
          "text": [
            "<ipython-input-16-3b3061026dc4>:5: SettingWithCopyWarning: \n",
            "A value is trying to be set on a copy of a slice from a DataFrame.\n",
            "Try using .loc[row_indexer,col_indexer] = value instead\n",
            "\n",
            "See the caveats in the documentation: https://pandas.pydata.org/pandas-docs/stable/user_guide/indexing.html#returning-a-view-versus-a-copy\n",
            "  chipotle_r['name'] = 'Chipotle'\n",
            "<ipython-input-16-3b3061026dc4>:10: SettingWithCopyWarning: \n",
            "A value is trying to be set on a copy of a slice from a DataFrame.\n",
            "Try using .loc[row_indexer,col_indexer] = value instead\n",
            "\n",
            "See the caveats in the documentation: https://pandas.pydata.org/pandas-docs/stable/user_guide/indexing.html#returning-a-view-versus-a-copy\n",
            "  taco_r['name'] = 'Taco Bell'\n"
          ]
        }
      ]
    },
    {
      "cell_type": "code",
      "source": [
        "taco_r.head(5)"
      ],
      "metadata": {
        "colab": {
          "base_uri": "https://localhost:8080/",
          "height": 289
        },
        "id": "uLf51VMF14w9",
        "outputId": "5f804afc-aa8a-4a71-9d97-03629d5c80ee"
      },
      "execution_count": null,
      "outputs": [
        {
          "output_type": "execute_result",
          "data": {
            "text/plain": [
              "                   review_id                 user_id             business_id  \\\n",
              "875   Ax8lbP7yYV_Ag2JwK-LorQ  EJqV61HlYmFEmzcIaRVVOw  tpSeNezanZDvsXWR7Hhi1w   \n",
              "1374  Um59sqw4ulhSmAfAuYwpeA  7ajfMmBJGkFU1kTur3DkkA  K_WZrMHAjqZ5DThAw4ZKMQ   \n",
              "1817  9O5TrnTl7OftHl2a7bQGOg  BGqAuyW767YnAQU1qOeV3g  X8k7N03buo2bBbUUfcAltQ   \n",
              "3110  -Xm4_Mwi3P5vfXYlOJA5tA  Zsdee1KEpMwjg5cqx-VWrQ  FZCj995CEL2G-JTiLC3Azw   \n",
              "4475  R3AtZ63S87-sAzAFpcia8A  1EJYgQ-ja_UbTWR_FDj4_A  fXsdsGnTntaRWbfUxP3wXw   \n",
              "\n",
              "      stars  useful  funny  cool  \\\n",
              "875       1       2      0     0   \n",
              "1374      3       0      1     0   \n",
              "1817      1       0      0     0   \n",
              "3110      3       0      0     0   \n",
              "4475      3       0      0     0   \n",
              "\n",
              "                                                   text                 date  \\\n",
              "875   Literally, the worst Taco Bell I have ever bee...  2016-09-18 17:59:11   \n",
              "1374              Can't go wrong with some Todd Cobell!  2011-03-21 01:31:13   \n",
              "1817  Went to this Taco Bell last night.  It was 1 3...  2016-08-13 00:20:54   \n",
              "3110  If you want to get in and out quick, this KFC/...  2014-02-24 02:32:24   \n",
              "4475  No complaints as far as Taco Bells go. Terribl...  2013-08-15 19:21:09   \n",
              "\n",
              "           name  \n",
              "875   Taco Bell  \n",
              "1374  Taco Bell  \n",
              "1817  Taco Bell  \n",
              "3110  Taco Bell  \n",
              "4475  Taco Bell  "
            ],
            "text/html": [
              "\n",
              "  <div id=\"df-599896ff-83cb-45ac-9fac-b01f62d8b0ed\" class=\"colab-df-container\">\n",
              "    <div>\n",
              "<style scoped>\n",
              "    .dataframe tbody tr th:only-of-type {\n",
              "        vertical-align: middle;\n",
              "    }\n",
              "\n",
              "    .dataframe tbody tr th {\n",
              "        vertical-align: top;\n",
              "    }\n",
              "\n",
              "    .dataframe thead th {\n",
              "        text-align: right;\n",
              "    }\n",
              "</style>\n",
              "<table border=\"1\" class=\"dataframe\">\n",
              "  <thead>\n",
              "    <tr style=\"text-align: right;\">\n",
              "      <th></th>\n",
              "      <th>review_id</th>\n",
              "      <th>user_id</th>\n",
              "      <th>business_id</th>\n",
              "      <th>stars</th>\n",
              "      <th>useful</th>\n",
              "      <th>funny</th>\n",
              "      <th>cool</th>\n",
              "      <th>text</th>\n",
              "      <th>date</th>\n",
              "      <th>name</th>\n",
              "    </tr>\n",
              "  </thead>\n",
              "  <tbody>\n",
              "    <tr>\n",
              "      <th>875</th>\n",
              "      <td>Ax8lbP7yYV_Ag2JwK-LorQ</td>\n",
              "      <td>EJqV61HlYmFEmzcIaRVVOw</td>\n",
              "      <td>tpSeNezanZDvsXWR7Hhi1w</td>\n",
              "      <td>1</td>\n",
              "      <td>2</td>\n",
              "      <td>0</td>\n",
              "      <td>0</td>\n",
              "      <td>Literally, the worst Taco Bell I have ever bee...</td>\n",
              "      <td>2016-09-18 17:59:11</td>\n",
              "      <td>Taco Bell</td>\n",
              "    </tr>\n",
              "    <tr>\n",
              "      <th>1374</th>\n",
              "      <td>Um59sqw4ulhSmAfAuYwpeA</td>\n",
              "      <td>7ajfMmBJGkFU1kTur3DkkA</td>\n",
              "      <td>K_WZrMHAjqZ5DThAw4ZKMQ</td>\n",
              "      <td>3</td>\n",
              "      <td>0</td>\n",
              "      <td>1</td>\n",
              "      <td>0</td>\n",
              "      <td>Can't go wrong with some Todd Cobell!</td>\n",
              "      <td>2011-03-21 01:31:13</td>\n",
              "      <td>Taco Bell</td>\n",
              "    </tr>\n",
              "    <tr>\n",
              "      <th>1817</th>\n",
              "      <td>9O5TrnTl7OftHl2a7bQGOg</td>\n",
              "      <td>BGqAuyW767YnAQU1qOeV3g</td>\n",
              "      <td>X8k7N03buo2bBbUUfcAltQ</td>\n",
              "      <td>1</td>\n",
              "      <td>0</td>\n",
              "      <td>0</td>\n",
              "      <td>0</td>\n",
              "      <td>Went to this Taco Bell last night.  It was 1 3...</td>\n",
              "      <td>2016-08-13 00:20:54</td>\n",
              "      <td>Taco Bell</td>\n",
              "    </tr>\n",
              "    <tr>\n",
              "      <th>3110</th>\n",
              "      <td>-Xm4_Mwi3P5vfXYlOJA5tA</td>\n",
              "      <td>Zsdee1KEpMwjg5cqx-VWrQ</td>\n",
              "      <td>FZCj995CEL2G-JTiLC3Azw</td>\n",
              "      <td>3</td>\n",
              "      <td>0</td>\n",
              "      <td>0</td>\n",
              "      <td>0</td>\n",
              "      <td>If you want to get in and out quick, this KFC/...</td>\n",
              "      <td>2014-02-24 02:32:24</td>\n",
              "      <td>Taco Bell</td>\n",
              "    </tr>\n",
              "    <tr>\n",
              "      <th>4475</th>\n",
              "      <td>R3AtZ63S87-sAzAFpcia8A</td>\n",
              "      <td>1EJYgQ-ja_UbTWR_FDj4_A</td>\n",
              "      <td>fXsdsGnTntaRWbfUxP3wXw</td>\n",
              "      <td>3</td>\n",
              "      <td>0</td>\n",
              "      <td>0</td>\n",
              "      <td>0</td>\n",
              "      <td>No complaints as far as Taco Bells go. Terribl...</td>\n",
              "      <td>2013-08-15 19:21:09</td>\n",
              "      <td>Taco Bell</td>\n",
              "    </tr>\n",
              "  </tbody>\n",
              "</table>\n",
              "</div>\n",
              "    <div class=\"colab-df-buttons\">\n",
              "\n",
              "  <div class=\"colab-df-container\">\n",
              "    <button class=\"colab-df-convert\" onclick=\"convertToInteractive('df-599896ff-83cb-45ac-9fac-b01f62d8b0ed')\"\n",
              "            title=\"Convert this dataframe to an interactive table.\"\n",
              "            style=\"display:none;\">\n",
              "\n",
              "  <svg xmlns=\"http://www.w3.org/2000/svg\" height=\"24px\" viewBox=\"0 -960 960 960\">\n",
              "    <path d=\"M120-120v-720h720v720H120Zm60-500h600v-160H180v160Zm220 220h160v-160H400v160Zm0 220h160v-160H400v160ZM180-400h160v-160H180v160Zm440 0h160v-160H620v160ZM180-180h160v-160H180v160Zm440 0h160v-160H620v160Z\"/>\n",
              "  </svg>\n",
              "    </button>\n",
              "\n",
              "  <style>\n",
              "    .colab-df-container {\n",
              "      display:flex;\n",
              "      gap: 12px;\n",
              "    }\n",
              "\n",
              "    .colab-df-convert {\n",
              "      background-color: #E8F0FE;\n",
              "      border: none;\n",
              "      border-radius: 50%;\n",
              "      cursor: pointer;\n",
              "      display: none;\n",
              "      fill: #1967D2;\n",
              "      height: 32px;\n",
              "      padding: 0 0 0 0;\n",
              "      width: 32px;\n",
              "    }\n",
              "\n",
              "    .colab-df-convert:hover {\n",
              "      background-color: #E2EBFA;\n",
              "      box-shadow: 0px 1px 2px rgba(60, 64, 67, 0.3), 0px 1px 3px 1px rgba(60, 64, 67, 0.15);\n",
              "      fill: #174EA6;\n",
              "    }\n",
              "\n",
              "    .colab-df-buttons div {\n",
              "      margin-bottom: 4px;\n",
              "    }\n",
              "\n",
              "    [theme=dark] .colab-df-convert {\n",
              "      background-color: #3B4455;\n",
              "      fill: #D2E3FC;\n",
              "    }\n",
              "\n",
              "    [theme=dark] .colab-df-convert:hover {\n",
              "      background-color: #434B5C;\n",
              "      box-shadow: 0px 1px 3px 1px rgba(0, 0, 0, 0.15);\n",
              "      filter: drop-shadow(0px 1px 2px rgba(0, 0, 0, 0.3));\n",
              "      fill: #FFFFFF;\n",
              "    }\n",
              "  </style>\n",
              "\n",
              "    <script>\n",
              "      const buttonEl =\n",
              "        document.querySelector('#df-599896ff-83cb-45ac-9fac-b01f62d8b0ed button.colab-df-convert');\n",
              "      buttonEl.style.display =\n",
              "        google.colab.kernel.accessAllowed ? 'block' : 'none';\n",
              "\n",
              "      async function convertToInteractive(key) {\n",
              "        const element = document.querySelector('#df-599896ff-83cb-45ac-9fac-b01f62d8b0ed');\n",
              "        const dataTable =\n",
              "          await google.colab.kernel.invokeFunction('convertToInteractive',\n",
              "                                                    [key], {});\n",
              "        if (!dataTable) return;\n",
              "\n",
              "        const docLinkHtml = 'Like what you see? Visit the ' +\n",
              "          '<a target=\"_blank\" href=https://colab.research.google.com/notebooks/data_table.ipynb>data table notebook</a>'\n",
              "          + ' to learn more about interactive tables.';\n",
              "        element.innerHTML = '';\n",
              "        dataTable['output_type'] = 'display_data';\n",
              "        await google.colab.output.renderOutput(dataTable, element);\n",
              "        const docLink = document.createElement('div');\n",
              "        docLink.innerHTML = docLinkHtml;\n",
              "        element.appendChild(docLink);\n",
              "      }\n",
              "    </script>\n",
              "  </div>\n",
              "\n",
              "\n",
              "<div id=\"df-a854e797-995d-4af7-b8ec-2c13e019b21f\">\n",
              "  <button class=\"colab-df-quickchart\" onclick=\"quickchart('df-a854e797-995d-4af7-b8ec-2c13e019b21f')\"\n",
              "            title=\"Suggest charts\"\n",
              "            style=\"display:none;\">\n",
              "\n",
              "<svg xmlns=\"http://www.w3.org/2000/svg\" height=\"24px\"viewBox=\"0 0 24 24\"\n",
              "     width=\"24px\">\n",
              "    <g>\n",
              "        <path d=\"M19 3H5c-1.1 0-2 .9-2 2v14c0 1.1.9 2 2 2h14c1.1 0 2-.9 2-2V5c0-1.1-.9-2-2-2zM9 17H7v-7h2v7zm4 0h-2V7h2v10zm4 0h-2v-4h2v4z\"/>\n",
              "    </g>\n",
              "</svg>\n",
              "  </button>\n",
              "\n",
              "<style>\n",
              "  .colab-df-quickchart {\n",
              "      --bg-color: #E8F0FE;\n",
              "      --fill-color: #1967D2;\n",
              "      --hover-bg-color: #E2EBFA;\n",
              "      --hover-fill-color: #174EA6;\n",
              "      --disabled-fill-color: #AAA;\n",
              "      --disabled-bg-color: #DDD;\n",
              "  }\n",
              "\n",
              "  [theme=dark] .colab-df-quickchart {\n",
              "      --bg-color: #3B4455;\n",
              "      --fill-color: #D2E3FC;\n",
              "      --hover-bg-color: #434B5C;\n",
              "      --hover-fill-color: #FFFFFF;\n",
              "      --disabled-bg-color: #3B4455;\n",
              "      --disabled-fill-color: #666;\n",
              "  }\n",
              "\n",
              "  .colab-df-quickchart {\n",
              "    background-color: var(--bg-color);\n",
              "    border: none;\n",
              "    border-radius: 50%;\n",
              "    cursor: pointer;\n",
              "    display: none;\n",
              "    fill: var(--fill-color);\n",
              "    height: 32px;\n",
              "    padding: 0;\n",
              "    width: 32px;\n",
              "  }\n",
              "\n",
              "  .colab-df-quickchart:hover {\n",
              "    background-color: var(--hover-bg-color);\n",
              "    box-shadow: 0 1px 2px rgba(60, 64, 67, 0.3), 0 1px 3px 1px rgba(60, 64, 67, 0.15);\n",
              "    fill: var(--button-hover-fill-color);\n",
              "  }\n",
              "\n",
              "  .colab-df-quickchart-complete:disabled,\n",
              "  .colab-df-quickchart-complete:disabled:hover {\n",
              "    background-color: var(--disabled-bg-color);\n",
              "    fill: var(--disabled-fill-color);\n",
              "    box-shadow: none;\n",
              "  }\n",
              "\n",
              "  .colab-df-spinner {\n",
              "    border: 2px solid var(--fill-color);\n",
              "    border-color: transparent;\n",
              "    border-bottom-color: var(--fill-color);\n",
              "    animation:\n",
              "      spin 1s steps(1) infinite;\n",
              "  }\n",
              "\n",
              "  @keyframes spin {\n",
              "    0% {\n",
              "      border-color: transparent;\n",
              "      border-bottom-color: var(--fill-color);\n",
              "      border-left-color: var(--fill-color);\n",
              "    }\n",
              "    20% {\n",
              "      border-color: transparent;\n",
              "      border-left-color: var(--fill-color);\n",
              "      border-top-color: var(--fill-color);\n",
              "    }\n",
              "    30% {\n",
              "      border-color: transparent;\n",
              "      border-left-color: var(--fill-color);\n",
              "      border-top-color: var(--fill-color);\n",
              "      border-right-color: var(--fill-color);\n",
              "    }\n",
              "    40% {\n",
              "      border-color: transparent;\n",
              "      border-right-color: var(--fill-color);\n",
              "      border-top-color: var(--fill-color);\n",
              "    }\n",
              "    60% {\n",
              "      border-color: transparent;\n",
              "      border-right-color: var(--fill-color);\n",
              "    }\n",
              "    80% {\n",
              "      border-color: transparent;\n",
              "      border-right-color: var(--fill-color);\n",
              "      border-bottom-color: var(--fill-color);\n",
              "    }\n",
              "    90% {\n",
              "      border-color: transparent;\n",
              "      border-bottom-color: var(--fill-color);\n",
              "    }\n",
              "  }\n",
              "</style>\n",
              "\n",
              "  <script>\n",
              "    async function quickchart(key) {\n",
              "      const quickchartButtonEl =\n",
              "        document.querySelector('#' + key + ' button');\n",
              "      quickchartButtonEl.disabled = true;  // To prevent multiple clicks.\n",
              "      quickchartButtonEl.classList.add('colab-df-spinner');\n",
              "      try {\n",
              "        const charts = await google.colab.kernel.invokeFunction(\n",
              "            'suggestCharts', [key], {});\n",
              "      } catch (error) {\n",
              "        console.error('Error during call to suggestCharts:', error);\n",
              "      }\n",
              "      quickchartButtonEl.classList.remove('colab-df-spinner');\n",
              "      quickchartButtonEl.classList.add('colab-df-quickchart-complete');\n",
              "    }\n",
              "    (() => {\n",
              "      let quickchartButtonEl =\n",
              "        document.querySelector('#df-a854e797-995d-4af7-b8ec-2c13e019b21f button');\n",
              "      quickchartButtonEl.style.display =\n",
              "        google.colab.kernel.accessAllowed ? 'block' : 'none';\n",
              "    })();\n",
              "  </script>\n",
              "</div>\n",
              "\n",
              "    </div>\n",
              "  </div>\n"
            ],
            "application/vnd.google.colaboratory.intrinsic+json": {
              "type": "dataframe",
              "variable_name": "taco_r",
              "repr_error": "0"
            }
          },
          "metadata": {},
          "execution_count": 17
        }
      ]
    },
    {
      "cell_type": "markdown",
      "source": [
        "- Using only review_id, user_id,business_id, stars, text columns"
      ],
      "metadata": {
        "id": "_ajpJ7FLYWqW"
      }
    },
    {
      "cell_type": "code",
      "source": [
        "chipotle_r = chipotle_r[['review_id','user_id','business_id','stars','text','name']]\n",
        "taco_r = taco_r[['review_id','user_id','business_id','stars','text','name']]"
      ],
      "metadata": {
        "id": "tyZhU7VfVQjD"
      },
      "execution_count": null,
      "outputs": []
    },
    {
      "cell_type": "markdown",
      "source": [
        "## 4.Summary Statistics of the Data"
      ],
      "metadata": {
        "id": "YAlX-yJRaoxj"
      }
    },
    {
      "cell_type": "markdown",
      "source": [
        "### a.Number of reviews"
      ],
      "metadata": {
        "id": "a0xpijH9cCv0"
      }
    },
    {
      "cell_type": "code",
      "source": [
        "# Count unique numbers using 'review_id'\n",
        "\n",
        "print('Number of Chipotle reviews:',chipotle_r['review_id'].nunique())\n",
        "print('Number of Taco Bell reviews:',taco_r['review_id'].nunique())"
      ],
      "metadata": {
        "colab": {
          "base_uri": "https://localhost:8080/"
        },
        "id": "Nw-gH-G5dhRC",
        "outputId": "41d26b8b-0999-45d2-c888-7c02052a7ba6"
      },
      "execution_count": null,
      "outputs": [
        {
          "output_type": "stream",
          "name": "stdout",
          "text": [
            "Number of Chipotle reviews: 9771\n",
            "Number of Taco Bell reviews: 8636\n"
          ]
        }
      ]
    },
    {
      "cell_type": "markdown",
      "source": [
        "### b.Total number of tokens"
      ],
      "metadata": {
        "id": "IStqgCnUcCiy"
      }
    },
    {
      "cell_type": "code",
      "source": [
        "# Total number of tokens in the 'text' column\n",
        "\n",
        "nlp = spacy.load(\"en_core_web_lg\")\n",
        "\n",
        "chipotle_r['token_count'] = chipotle_r['text'].apply(lambda x: len(nlp(x)))\n",
        "taco_r['token_count'] = taco_r['text'].apply(lambda x: len(nlp(x)))"
      ],
      "metadata": {
        "id": "qFKMGYoud1QL"
      },
      "execution_count": null,
      "outputs": []
    },
    {
      "cell_type": "markdown",
      "source": [
        "#### Stats and Distribution for Chipotle review's token"
      ],
      "metadata": {
        "id": "OWsQXAiFtXSw"
      }
    },
    {
      "cell_type": "code",
      "source": [
        "# Statistics and Distribution of token_count in chipotle_r\n",
        "\n",
        "# Display basic statistics\n",
        "token_count_stats = chipotle_r['token_count'].describe()\n",
        "print(\"📊 Token Count Statistics:\")\n",
        "print(token_count_stats)\n",
        "print()\n",
        "print()\n",
        "\n",
        "\n",
        "# Visualization: Distribution of token_count\n",
        "plt.figure(figsize=(12, 6))\n",
        "sns.histplot(chipotle_r['token_count'], bins=30, kde=True, color='skyblue')\n",
        "plt.title('Distribution of Token Count in Chipotle Reviews', fontsize=16)\n",
        "plt.xlabel('Token Count', fontsize=14)\n",
        "plt.ylabel('Frequency', fontsize=14)\n",
        "plt.grid(True)\n",
        "plt.show()"
      ],
      "metadata": {
        "colab": {
          "base_uri": "https://localhost:8080/",
          "height": 775
        },
        "id": "yyi4RgfXqyDo",
        "outputId": "47603f62-9237-4a5f-bcaa-7e8156f718ec"
      },
      "execution_count": null,
      "outputs": [
        {
          "output_type": "stream",
          "name": "stdout",
          "text": [
            "📊 Token Count Statistics:\n",
            "count    9771.000000\n",
            "mean      106.315423\n",
            "std        87.204095\n",
            "min         3.000000\n",
            "25%        49.000000\n",
            "50%        81.000000\n",
            "75%       135.000000\n",
            "max      1096.000000\n",
            "Name: token_count, dtype: float64\n",
            "\n",
            "\n"
          ]
        },
        {
          "output_type": "display_data",
          "data": {
            "text/plain": [
              "<Figure size 1200x600 with 1 Axes>"
            ],
            "image/png": "[encoded data removed]"
          },
          "metadata": {}
        }
      ]
    },
    {
      "cell_type": "markdown",
      "source": [
        "#### Stats and Distribution for Taco Bell review's token"
      ],
      "metadata": {
        "id": "jB3nyJDTtK4g"
      }
    },
    {
      "cell_type": "code",
      "source": [
        "# Statistics and Distribution of token_count in taco_r\n",
        "\n",
        "# Display basic statistics\n",
        "token_count_stats = taco_r['token_count'].describe()\n",
        "print(\"📊 Token Count Statistics:\")\n",
        "print(token_count_stats)\n",
        "print()\n",
        "print()\n",
        "\n",
        "# Visualization: Distribution of token_count\n",
        "plt.figure(figsize=(12, 6))\n",
        "sns.histplot(taco_r['token_count'], bins=30, kde=True, color='skyblue')\n",
        "plt.title('Distribution of Token Count in Taco Bell Reviews', fontsize=16)\n",
        "plt.xlabel('Token Count', fontsize=14)\n",
        "plt.ylabel('Frequency', fontsize=14)\n",
        "plt.grid(True)\n",
        "plt.show()"
      ],
      "metadata": {
        "colab": {
          "base_uri": "https://localhost:8080/",
          "height": 775
        },
        "id": "jtOwYv-ut6A4",
        "outputId": "8054ec33-7a26-4090-a8dd-5ac113531f85"
      },
      "execution_count": null,
      "outputs": [
        {
          "output_type": "stream",
          "name": "stdout",
          "text": [
            "📊 Token Count Statistics:\n",
            "count    8636.000000\n",
            "mean       96.563224\n",
            "std        87.354221\n",
            "min         7.000000\n",
            "25%        43.000000\n",
            "50%        71.000000\n",
            "75%       120.000000\n",
            "max      1154.000000\n",
            "Name: token_count, dtype: float64\n",
            "\n",
            "\n"
          ]
        },
        {
          "output_type": "display_data",
          "data": {
            "text/plain": [
              "<Figure size 1200x600 with 1 Axes>"
            ],
            "image/png": "[encoded data removed]"
          },
          "metadata": {}
        }
      ]
    },
    {
      "cell_type": "markdown",
      "source": [
        "### c. Number of unique words (i.e., size of vocabulary)"
      ],
      "metadata": {
        "id": "GiUgF_iDcCfZ"
      }
    },
    {
      "cell_type": "code",
      "source": [
        "# Normalization function\n",
        "def normalize(review, lowercase=True, remove_stopwords=True):\n",
        "    if lowercase:\n",
        "        review = review.lower()\n",
        "    doc = nlp(review)\n",
        "    lemmatized = [token.lemma_ for token in doc if not remove_stopwords or (remove_stopwords and not token.is_stop)]\n",
        "    return \" \".join(lemmatized)"
      ],
      "metadata": {
        "id": "wXmyN4de2XH6"
      },
      "execution_count": null,
      "outputs": []
    },
    {
      "cell_type": "code",
      "source": [
        "# Apply normalization to all reviews\n",
        "\n",
        "chipotle_r['normalized_text'] = chipotle_r['text'].apply(lambda x: normalize(x))\n",
        "taco_r['normalized_text'] = taco_r['text'].apply(lambda x: normalize(x))"
      ],
      "metadata": {
        "id": "_CExr9Sv4qXD"
      },
      "execution_count": null,
      "outputs": []
    },
    {
      "cell_type": "code",
      "source": [
        "# taco_r.normalized_text first row\n",
        "\n",
        "taco_r.head(5)"
      ],
      "metadata": {
        "colab": {
          "base_uri": "https://localhost:8080/",
          "height": 598
        },
        "id": "bgGjDO3W7gjg",
        "outputId": "c5f7e7d0-b83b-4c32-825a-ef3943504452"
      },
      "execution_count": null,
      "outputs": [
        {
          "output_type": "execute_result",
          "data": {
            "text/plain": [
              "                   review_id                 user_id             business_id  \\\n",
              "875   Ax8lbP7yYV_Ag2JwK-LorQ  EJqV61HlYmFEmzcIaRVVOw  tpSeNezanZDvsXWR7Hhi1w   \n",
              "1374  Um59sqw4ulhSmAfAuYwpeA  7ajfMmBJGkFU1kTur3DkkA  K_WZrMHAjqZ5DThAw4ZKMQ   \n",
              "1817  9O5TrnTl7OftHl2a7bQGOg  BGqAuyW767YnAQU1qOeV3g  X8k7N03buo2bBbUUfcAltQ   \n",
              "3110  -Xm4_Mwi3P5vfXYlOJA5tA  Zsdee1KEpMwjg5cqx-VWrQ  FZCj995CEL2G-JTiLC3Azw   \n",
              "4475  R3AtZ63S87-sAzAFpcia8A  1EJYgQ-ja_UbTWR_FDj4_A  fXsdsGnTntaRWbfUxP3wXw   \n",
              "\n",
              "      stars                                               text  token_count  \\\n",
              "875       1  Literally, the worst Taco Bell I have ever bee...           61   \n",
              "1374      3              Can't go wrong with some Todd Cobell!            9   \n",
              "1817      1  Went to this Taco Bell last night.  It was 1 3...           68   \n",
              "3110      3  If you want to get in and out quick, this KFC/...          122   \n",
              "4475      3  No complaints as far as Taco Bells go. Terribl...           54   \n",
              "\n",
              "                                        normalized_text  \n",
              "875   literally , bad taco bell . restaurant filthy ...  \n",
              "1374                                wrong todd cobell !  \n",
              "1817  go taco bell night .   1 30 say 30 minute clos...  \n",
              "3110  want quick , kfc / taco bell \" ok \" fast food ...  \n",
              "4475  complaint far taco bell . terrible terribly de...  "
            ],
            "text/html": [
              "\n",
              "  <div id=\"df-8b0c6106-ef86-416b-9424-6b99d427bad9\" class=\"colab-df-container\">\n",
              "    <div>\n",
              "<style scoped>\n",
              "    .dataframe tbody tr th:only-of-type {\n",
              "        vertical-align: middle;\n",
              "    }\n",
              "\n",
              "    .dataframe tbody tr th {\n",
              "        vertical-align: top;\n",
              "    }\n",
              "\n",
              "    .dataframe thead th {\n",
              "        text-align: right;\n",
              "    }\n",
              "</style>\n",
              "<table border=\"1\" class=\"dataframe\">\n",
              "  <thead>\n",
              "    <tr style=\"text-align: right;\">\n",
              "      <th></th>\n",
              "      <th>review_id</th>\n",
              "      <th>user_id</th>\n",
              "      <th>business_id</th>\n",
              "      <th>stars</th>\n",
              "      <th>text</th>\n",
              "      <th>token_count</th>\n",
              "      <th>normalized_text</th>\n",
              "    </tr>\n",
              "  </thead>\n",
              "  <tbody>\n",
              "    <tr>\n",
              "      <th>875</th>\n",
              "      <td>Ax8lbP7yYV_Ag2JwK-LorQ</td>\n",
              "      <td>EJqV61HlYmFEmzcIaRVVOw</td>\n",
              "      <td>tpSeNezanZDvsXWR7Hhi1w</td>\n",
              "      <td>1</td>\n",
              "      <td>Literally, the worst Taco Bell I have ever bee...</td>\n",
              "      <td>61</td>\n",
              "      <td>literally , bad taco bell . restaurant filthy ...</td>\n",
              "    </tr>\n",
              "    <tr>\n",
              "      <th>1374</th>\n",
              "      <td>Um59sqw4ulhSmAfAuYwpeA</td>\n",
              "      <td>7ajfMmBJGkFU1kTur3DkkA</td>\n",
              "      <td>K_WZrMHAjqZ5DThAw4ZKMQ</td>\n",
              "      <td>3</td>\n",
              "      <td>Can't go wrong with some Todd Cobell!</td>\n",
              "      <td>9</td>\n",
              "      <td>wrong todd cobell !</td>\n",
              "    </tr>\n",
              "    <tr>\n",
              "      <th>1817</th>\n",
              "      <td>9O5TrnTl7OftHl2a7bQGOg</td>\n",
              "      <td>BGqAuyW767YnAQU1qOeV3g</td>\n",
              "      <td>X8k7N03buo2bBbUUfcAltQ</td>\n",
              "      <td>1</td>\n",
              "      <td>Went to this Taco Bell last night.  It was 1 3...</td>\n",
              "      <td>68</td>\n",
              "      <td>go taco bell night .   1 30 say 30 minute clos...</td>\n",
              "    </tr>\n",
              "    <tr>\n",
              "      <th>3110</th>\n",
              "      <td>-Xm4_Mwi3P5vfXYlOJA5tA</td>\n",
              "      <td>Zsdee1KEpMwjg5cqx-VWrQ</td>\n",
              "      <td>FZCj995CEL2G-JTiLC3Azw</td>\n",
              "      <td>3</td>\n",
              "      <td>If you want to get in and out quick, this KFC/...</td>\n",
              "      <td>122</td>\n",
              "      <td>want quick , kfc / taco bell \" ok \" fast food ...</td>\n",
              "    </tr>\n",
              "    <tr>\n",
              "      <th>4475</th>\n",
              "      <td>R3AtZ63S87-sAzAFpcia8A</td>\n",
              "      <td>1EJYgQ-ja_UbTWR_FDj4_A</td>\n",
              "      <td>fXsdsGnTntaRWbfUxP3wXw</td>\n",
              "      <td>3</td>\n",
              "      <td>No complaints as far as Taco Bells go. Terribl...</td>\n",
              "      <td>54</td>\n",
              "      <td>complaint far taco bell . terrible terribly de...</td>\n",
              "    </tr>\n",
              "  </tbody>\n",
              "</table>\n",
              "</div>\n",
              "    <div class=\"colab-df-buttons\">\n",
              "\n",
              "  <div class=\"colab-df-container\">\n",
              "    <button class=\"colab-df-convert\" onclick=\"convertToInteractive('df-8b0c6106-ef86-416b-9424-6b99d427bad9')\"\n",
              "            title=\"Convert this dataframe to an interactive table.\"\n",
              "            style=\"display:none;\">\n",
              "\n",
              "  <svg xmlns=\"http://www.w3.org/2000/svg\" height=\"24px\" viewBox=\"0 -960 960 960\">\n",
              "    <path d=\"M120-120v-720h720v720H120Zm60-500h600v-160H180v160Zm220 220h160v-160H400v160Zm0 220h160v-160H400v160ZM180-400h160v-160H180v160Zm440 0h160v-160H620v160ZM180-180h160v-160H180v160Zm440 0h160v-160H620v160Z\"/>\n",
              "  </svg>\n",
              "    </button>\n",
              "\n",
              "  <style>\n",
              "    .colab-df-container {\n",
              "      display:flex;\n",
              "      gap: 12px;\n",
              "    }\n",
              "\n",
              "    .colab-df-convert {\n",
              "      background-color: #E8F0FE;\n",
              "      border: none;\n",
              "      border-radius: 50%;\n",
              "      cursor: pointer;\n",
              "      display: none;\n",
              "      fill: #1967D2;\n",
              "      height: 32px;\n",
              "      padding: 0 0 0 0;\n",
              "      width: 32px;\n",
              "    }\n",
              "\n",
              "    .colab-df-convert:hover {\n",
              "      background-color: #E2EBFA;\n",
              "      box-shadow: 0px 1px 2px rgba(60, 64, 67, 0.3), 0px 1px 3px 1px rgba(60, 64, 67, 0.15);\n",
              "      fill: #174EA6;\n",
              "    }\n",
              "\n",
              "    .colab-df-buttons div {\n",
              "      margin-bottom: 4px;\n",
              "    }\n",
              "\n",
              "    [theme=dark] .colab-df-convert {\n",
              "      background-color: #3B4455;\n",
              "      fill: #D2E3FC;\n",
              "    }\n",
              "\n",
              "    [theme=dark] .colab-df-convert:hover {\n",
              "      background-color: #434B5C;\n",
              "      box-shadow: 0px 1px 3px 1px rgba(0, 0, 0, 0.15);\n",
              "      filter: drop-shadow(0px 1px 2px rgba(0, 0, 0, 0.3));\n",
              "      fill: #FFFFFF;\n",
              "    }\n",
              "  </style>\n",
              "\n",
              "    <script>\n",
              "      const buttonEl =\n",
              "        document.querySelector('#df-8b0c6106-ef86-416b-9424-6b99d427bad9 button.colab-df-convert');\n",
              "      buttonEl.style.display =\n",
              "        google.colab.kernel.accessAllowed ? 'block' : 'none';\n",
              "\n",
              "      async function convertToInteractive(key) {\n",
              "        const element = document.querySelector('#df-8b0c6106-ef86-416b-9424-6b99d427bad9');\n",
              "        const dataTable =\n",
              "          await google.colab.kernel.invokeFunction('convertToInteractive',\n",
              "                                                    [key], {});\n",
              "        if (!dataTable) return;\n",
              "\n",
              "        const docLinkHtml = 'Like what you see? Visit the ' +\n",
              "          '<a target=\"_blank\" href=https://colab.research.google.com/notebooks/data_table.ipynb>data table notebook</a>'\n",
              "          + ' to learn more about interactive tables.';\n",
              "        element.innerHTML = '';\n",
              "        dataTable['output_type'] = 'display_data';\n",
              "        await google.colab.output.renderOutput(dataTable, element);\n",
              "        const docLink = document.createElement('div');\n",
              "        docLink.innerHTML = docLinkHtml;\n",
              "        element.appendChild(docLink);\n",
              "      }\n",
              "    </script>\n",
              "  </div>\n",
              "\n",
              "\n",
              "<div id=\"df-ee9a88f8-d99b-4b89-959c-abd30562f2b2\">\n",
              "  <button class=\"colab-df-quickchart\" onclick=\"quickchart('df-ee9a88f8-d99b-4b89-959c-abd30562f2b2')\"\n",
              "            title=\"Suggest charts\"\n",
              "            style=\"display:none;\">\n",
              "\n",
              "<svg xmlns=\"http://www.w3.org/2000/svg\" height=\"24px\"viewBox=\"0 0 24 24\"\n",
              "     width=\"24px\">\n",
              "    <g>\n",
              "        <path d=\"M19 3H5c-1.1 0-2 .9-2 2v14c0 1.1.9 2 2 2h14c1.1 0 2-.9 2-2V5c0-1.1-.9-2-2-2zM9 17H7v-7h2v7zm4 0h-2V7h2v10zm4 0h-2v-4h2v4z\"/>\n",
              "    </g>\n",
              "</svg>\n",
              "  </button>\n",
              "\n",
              "<style>\n",
              "  .colab-df-quickchart {\n",
              "      --bg-color: #E8F0FE;\n",
              "      --fill-color: #1967D2;\n",
              "      --hover-bg-color: #E2EBFA;\n",
              "      --hover-fill-color: #174EA6;\n",
              "      --disabled-fill-color: #AAA;\n",
              "      --disabled-bg-color: #DDD;\n",
              "  }\n",
              "\n",
              "  [theme=dark] .colab-df-quickchart {\n",
              "      --bg-color: #3B4455;\n",
              "      --fill-color: #D2E3FC;\n",
              "      --hover-bg-color: #434B5C;\n",
              "      --hover-fill-color: #FFFFFF;\n",
              "      --disabled-bg-color: #3B4455;\n",
              "      --disabled-fill-color: #666;\n",
              "  }\n",
              "\n",
              "  .colab-df-quickchart {\n",
              "    background-color: var(--bg-color);\n",
              "    border: none;\n",
              "    border-radius: 50%;\n",
              "    cursor: pointer;\n",
              "    display: none;\n",
              "    fill: var(--fill-color);\n",
              "    height: 32px;\n",
              "    padding: 0;\n",
              "    width: 32px;\n",
              "  }\n",
              "\n",
              "  .colab-df-quickchart:hover {\n",
              "    background-color: var(--hover-bg-color);\n",
              "    box-shadow: 0 1px 2px rgba(60, 64, 67, 0.3), 0 1px 3px 1px rgba(60, 64, 67, 0.15);\n",
              "    fill: var(--button-hover-fill-color);\n",
              "  }\n",
              "\n",
              "  .colab-df-quickchart-complete:disabled,\n",
              "  .colab-df-quickchart-complete:disabled:hover {\n",
              "    background-color: var(--disabled-bg-color);\n",
              "    fill: var(--disabled-fill-color);\n",
              "    box-shadow: none;\n",
              "  }\n",
              "\n",
              "  .colab-df-spinner {\n",
              "    border: 2px solid var(--fill-color);\n",
              "    border-color: transparent;\n",
              "    border-bottom-color: var(--fill-color);\n",
              "    animation:\n",
              "      spin 1s steps(1) infinite;\n",
              "  }\n",
              "\n",
              "  @keyframes spin {\n",
              "    0% {\n",
              "      border-color: transparent;\n",
              "      border-bottom-color: var(--fill-color);\n",
              "      border-left-color: var(--fill-color);\n",
              "    }\n",
              "    20% {\n",
              "      border-color: transparent;\n",
              "      border-left-color: var(--fill-color);\n",
              "      border-top-color: var(--fill-color);\n",
              "    }\n",
              "    30% {\n",
              "      border-color: transparent;\n",
              "      border-left-color: var(--fill-color);\n",
              "      border-top-color: var(--fill-color);\n",
              "      border-right-color: var(--fill-color);\n",
              "    }\n",
              "    40% {\n",
              "      border-color: transparent;\n",
              "      border-right-color: var(--fill-color);\n",
              "      border-top-color: var(--fill-color);\n",
              "    }\n",
              "    60% {\n",
              "      border-color: transparent;\n",
              "      border-right-color: var(--fill-color);\n",
              "    }\n",
              "    80% {\n",
              "      border-color: transparent;\n",
              "      border-right-color: var(--fill-color);\n",
              "      border-bottom-color: var(--fill-color);\n",
              "    }\n",
              "    90% {\n",
              "      border-color: transparent;\n",
              "      border-bottom-color: var(--fill-color);\n",
              "    }\n",
              "  }\n",
              "</style>\n",
              "\n",
              "  <script>\n",
              "    async function quickchart(key) {\n",
              "      const quickchartButtonEl =\n",
              "        document.querySelector('#' + key + ' button');\n",
              "      quickchartButtonEl.disabled = true;  // To prevent multiple clicks.\n",
              "      quickchartButtonEl.classList.add('colab-df-spinner');\n",
              "      try {\n",
              "        const charts = await google.colab.kernel.invokeFunction(\n",
              "            'suggestCharts', [key], {});\n",
              "      } catch (error) {\n",
              "        console.error('Error during call to suggestCharts:', error);\n",
              "      }\n",
              "      quickchartButtonEl.classList.remove('colab-df-spinner');\n",
              "      quickchartButtonEl.classList.add('colab-df-quickchart-complete');\n",
              "    }\n",
              "    (() => {\n",
              "      let quickchartButtonEl =\n",
              "        document.querySelector('#df-ee9a88f8-d99b-4b89-959c-abd30562f2b2 button');\n",
              "      quickchartButtonEl.style.display =\n",
              "        google.colab.kernel.accessAllowed ? 'block' : 'none';\n",
              "    })();\n",
              "  </script>\n",
              "</div>\n",
              "\n",
              "    </div>\n",
              "  </div>\n"
            ],
            "application/vnd.google.colaboratory.intrinsic+json": {
              "type": "dataframe",
              "variable_name": "taco_r",
              "summary": "{\n  \"name\": \"taco_r\",\n  \"rows\": 8636,\n  \"fields\": [\n    {\n      \"column\": \"review_id\",\n      \"properties\": {\n        \"dtype\": \"string\",\n        \"num_unique_values\": 8636,\n        \"samples\": [\n          \"lZmqr1WQfBbbKbuYFSjnuw\",\n          \"8IeFnexmjzeDmZtc3q8UxA\",\n          \"ZIOIhlSFeZGHT56EkAyq4w\"\n        ],\n        \"semantic_type\": \"\",\n        \"description\": \"\"\n      }\n    },\n    {\n      \"column\": \"user_id\",\n      \"properties\": {\n        \"dtype\": \"string\",\n        \"num_unique_values\": 7653,\n        \"samples\": [\n          \"-t-DhYWz4NPkvqbqkReNww\",\n          \"GBya1oMfimoMQm5nCUgQOw\",\n          \"cKH0CT1fQvcK3fqgRC1ZUw\"\n        ],\n        \"semantic_type\": \"\",\n        \"description\": \"\"\n      }\n    },\n    {\n      \"column\": \"business_id\",\n      \"properties\": {\n        \"dtype\": \"category\",\n        \"num_unique_values\": 365,\n        \"samples\": [\n          \"mxam6ZzXg_ZSTSFPDJEpFA\",\n          \"_xEomLz1UfKjn3-S1LYS8g\",\n          \"dHOxmu8B_FGEcVa7q0zrTg\"\n        ],\n        \"semantic_type\": \"\",\n        \"description\": \"\"\n      }\n    },\n    {\n      \"column\": \"stars\",\n      \"properties\": {\n        \"dtype\": \"number\",\n        \"std\": 1,\n        \"min\": 1,\n        \"max\": 5,\n        \"num_unique_values\": 5,\n        \"samples\": [\n          3,\n          5,\n          4\n        ],\n        \"semantic_type\": \"\",\n        \"description\": \"\"\n      }\n    },\n    {\n      \"column\": \"text\",\n      \"properties\": {\n        \"dtype\": \"string\",\n        \"num_unique_values\": 8620,\n        \"samples\": [\n          \"This is the third time I've ordered a Mexican pizza from this location and it tasted so strongly of old fry oil I had to spit it out. Terrible. On top of that, when I opened the box, it looked like someone ripped it into pieces instead of cutting it. What is going on over there?\",\n          \"I hate reviewing fast food places. And this is probably the only time I'll do it, but in this case, I must. This is the BEST taco bell EVER!!!\\n\\nI know what you're thinking. All fast food is the same. I thought the same thing. This is NOT true. This place has a PANINI PRESS that they use on your soft tacos and and burritos that give em this delicious, slightly crispy, chewiness that's heavenly. OMG I would eat this everyday if I could. \\n\\nPlus the prices are super low so even if you walk in with like $5, you're automatically Jay-Z.\",\n          \"Understaffed. Slow service continues to plague this fast food joint. I strongly encourage management to visit any night. Garbage cans are full. Napkin racks are not full. Just generally a mess.\"\n        ],\n        \"semantic_type\": \"\",\n        \"description\": \"\"\n      }\n    },\n    {\n      \"column\": \"token_count\",\n      \"properties\": {\n        \"dtype\": \"number\",\n        \"std\": 87,\n        \"min\": 7,\n        \"max\": 1154,\n        \"num_unique_values\": 469,\n        \"samples\": [\n          65,\n          44,\n          89\n        ],\n        \"semantic_type\": \"\",\n        \"description\": \"\"\n      }\n    },\n    {\n      \"column\": \"normalized_text\",\n      \"properties\": {\n        \"dtype\": \"string\",\n        \"num_unique_values\": 8615,\n        \"samples\": [\n          \"go taco bell northern spark app purchase food ahead time ( especially food window ) . \\n\\n take 45 minute drive food order ahead time car ahead .   answer order box .   get window finally , kid work store play manager find .   , leave half order .   luckily , trust mood point verify window .   rude mistake . \\n\\n need look yelp review ( unfortunately ) long mismanagement happen employee get away .\",\n          \"check bag .... \\n ugh wait line 20 + min order $ 30.00 worth food family order include 4 pack chicken roll taco ask want cheese say yes home cheese sauce roll chicken taco ... like come hard literally taco bell pay attention .. rush throw thing food sloppy answer phone honestly come taco bell terrible ... taco bell absolutely ruin\",\n          \"pull 10:30 , sit drive - minute answer , pull window inform \\\" be get food , closed \\\" . .\"\n        ],\n        \"semantic_type\": \"\",\n        \"description\": \"\"\n      }\n    }\n  ]\n}"
            }
          },
          "metadata": {},
          "execution_count": 30
        }
      ]
    },
    {
      "cell_type": "code",
      "source": [
        "from collections import Counter\n",
        "\n",
        "# Tokenization after normalization with batch processing\n",
        "chipotle_normalized_tokens = []\n",
        "taco_normalized_tokens = []\n",
        "\n",
        "# Batch processing for Chipotle reviews\n",
        "for doc in nlp.pipe(chipotle_r['normalized_text'], disable=[\"parser\", \"ner\"], batch_size=1000):\n",
        "    tokens = [token.text for token in doc if not token.is_punct and not token.is_space]\n",
        "    chipotle_normalized_tokens.extend(tokens)\n",
        "\n",
        "# Batch processing for Taco reviews\n",
        "for doc in nlp.pipe(taco_r['normalized_text'], disable=[\"parser\", \"ner\"], batch_size=1000):\n",
        "    tokens = [token.text for token in doc if not token.is_punct and not token.is_space]\n",
        "    taco_normalized_tokens.extend(tokens)"
      ],
      "metadata": {
        "id": "zA1f00kL5iQ-"
      },
      "execution_count": null,
      "outputs": []
    },
    {
      "cell_type": "code",
      "source": [
        "# Count unique tokens\n",
        "chipotle_unique_normalized_tokens = set(chipotle_normalized_tokens)\n",
        "taco_unique_normalized_tokens = set(taco_normalized_tokens)\n",
        "\n",
        "# Calculate vocabulary sizes\n",
        "chipotle_vocabulary_size_normalized = len(chipotle_unique_normalized_tokens)\n",
        "taco_vocabulary_size_normalized = len(taco_unique_normalized_tokens)\n",
        "\n",
        "# Display the vocabulary size\n",
        "print(f\"📚 Number of Unique Words After Normalization (Chipotle): {chipotle_vocabulary_size_normalized}\")\n",
        "print(f\"📚 Number of Unique Words After Normalization (Taco): {taco_vocabulary_size_normalized}\")\n",
        "\n",
        "# Display top 20 most used tokens for Chipotle and Taco reviews\n",
        "chipotle_top_20_tokens = Counter(chipotle_normalized_tokens).most_common(20)\n",
        "taco_top_20_tokens = Counter(taco_normalized_tokens).most_common(20)\n",
        "\n",
        "# Display the top 20 tokens\n",
        "print(\"\\n🍟 Top 20 Most Used Tokens in Chipotle Reviews:\")\n",
        "for token, count in chipotle_top_20_tokens:\n",
        "    print(f\"{token}: {count}\")\n",
        "\n",
        "print(\"\\n🌮 Top 20 Most Used Tokens in Taco Reviews:\")\n",
        "for token, count in taco_top_20_tokens:\n",
        "    print(f\"{token}: {count}\")"
      ],
      "metadata": {
        "colab": {
          "base_uri": "https://localhost:8080/"
        },
        "id": "Y9CN1rnd89GX",
        "outputId": "32322ccc-a217-442c-8434-6280f2ede31f"
      },
      "execution_count": null,
      "outputs": [
        {
          "output_type": "stream",
          "name": "stdout",
          "text": [
            "📚 Number of Unique Words After Normalization (Chipotle): 13071\n",
            "📚 Number of Unique Words After Normalization (Taco): 12152\n",
            "\n",
            "🍟 Top 20 Most Used Tokens in Chipotle Reviews:\n",
            "chipotle: 9028\n",
            "order: 7926\n",
            "food: 7490\n",
            "time: 5420\n",
            "location: 5028\n",
            "burrito: 3741\n",
            "like: 3352\n",
            "bowl: 3333\n",
            "place: 3114\n",
            "good: 3106\n",
            "line: 2952\n",
            "go: 2848\n",
            "service: 2810\n",
            "get: 2769\n",
            "eat: 2373\n",
            "come: 2357\n",
            "staff: 2302\n",
            "wait: 2193\n",
            "ask: 2145\n",
            "customer: 2119\n",
            "\n",
            "🌮 Top 20 Most Used Tokens in Taco Reviews:\n",
            "taco: 9332\n",
            "order: 8112\n",
            "bell: 6833\n",
            "food: 6581\n",
            "time: 4350\n",
            "drive: 4078\n",
            "go: 2760\n",
            "location: 2759\n",
            "get: 2747\n",
            "service: 2654\n",
            "place: 2558\n",
            "wait: 2456\n",
            "like: 2305\n",
            "come: 2280\n",
            "minute: 2128\n",
            "good: 2084\n",
            "bad: 1980\n",
            "fast: 1888\n",
            "say: 1831\n",
            "ask: 1828\n"
          ]
        }
      ]
    },
    {
      "cell_type": "markdown",
      "source": [
        "### d.Average review length (i.e., average number of words of each review)"
      ],
      "metadata": {
        "id": "NczYuZrncCZ8"
      }
    },
    {
      "cell_type": "markdown",
      "source": [
        "$$\n",
        "\\text{Average Review Length} = \\frac{\\text{Total Tokens}}{\\text{Number of Reviews}}\n",
        "$$"
      ],
      "metadata": {
        "id": "R18PUF8T9t0m"
      }
    },
    {
      "cell_type": "code",
      "source": [
        "# Function to calculate average review length\n",
        "def average_review_length(tokens_list, num_reviews):\n",
        "    return len(tokens_list) / num_reviews\n",
        "\n",
        "# Calculate the average review length for Chipotle and Taco reviews\n",
        "chipotle_avg_review_length = average_review_length(chipotle_normalized_tokens, len(chipotle_r))\n",
        "taco_avg_review_length = average_review_length(taco_normalized_tokens, len(taco_r))\n",
        "\n",
        "# Display the results\n",
        "print(f\"📏 Average Review Length (Chipotle Reviews): {chipotle_avg_review_length:.2f} words per review\")\n",
        "print(f\"📏 Average Review Length (Taco Bell Reviews): {taco_avg_review_length:.2f} words per review\")"
      ],
      "metadata": {
        "colab": {
          "base_uri": "https://localhost:8080/"
        },
        "id": "IOGgJ5AM9e6I",
        "outputId": "ee24f1a8-a160-43e6-87cf-b76ff340dc37"
      },
      "execution_count": null,
      "outputs": [
        {
          "output_type": "stream",
          "name": "stdout",
          "text": [
            "📏 Average Review Length (Chipotle Reviews): 38.07 words per review\n",
            "📏 Average Review Length (Taco Bell Reviews): 35.08 words per review\n"
          ]
        }
      ]
    },
    {
      "cell_type": "markdown",
      "source": [
        "### e.Number of unique customers"
      ],
      "metadata": {
        "id": "ty8a0W7ocCMd"
      }
    },
    {
      "cell_type": "code",
      "source": [
        "# Number of unique user_id in each chipotle and Taco Bell\n",
        "\n",
        "print('Number of unique customers in Chipotle:',chipotle_r['user_id'].nunique())\n",
        "print('Number of unique customers in Taco Bell:',taco_r['user_id'].nunique())"
      ],
      "metadata": {
        "colab": {
          "base_uri": "https://localhost:8080/"
        },
        "id": "bK4ALL-m95wW",
        "outputId": "82ab0dda-b403-458c-b1b6-2693c58fd3e8"
      },
      "execution_count": null,
      "outputs": [
        {
          "output_type": "stream",
          "name": "stdout",
          "text": [
            "Number of unique customers in Chipotle: 8752\n",
            "Number of unique customers in Taco Bell: 7653\n"
          ]
        }
      ]
    },
    {
      "cell_type": "code",
      "source": [
        "# Average number of reviews that each person writes\n",
        "\n",
        "chipotle_avg_reviews_per_user = chipotle_r.groupby('user_id')['review_id'].count().mean()\n",
        "taco_avg_reviews_per = taco_r.groupby('user_id')['review_id'].count().mean()\n",
        "\n",
        "print('Average number of reviews that each person writes in Chipotle:',chipotle_avg_reviews_per_user)\n",
        "print('Average number of reviews that each person writes in Taco Bell:',taco_avg_reviews_per)"
      ],
      "metadata": {
        "colab": {
          "base_uri": "https://localhost:8080/"
        },
        "id": "fmCxda_T-Hjr",
        "outputId": "8594b138-dace-4117-8450-5bc9b5db6b88"
      },
      "execution_count": null,
      "outputs": [
        {
          "output_type": "stream",
          "name": "stdout",
          "text": [
            "Average number of reviews that each person writes in Chipotle: 1.1164305301645339\n",
            "Average number of reviews that each person writes in Taco Bell: 1.1284463609042206\n"
          ]
        }
      ]
    },
    {
      "cell_type": "markdown",
      "source": [
        "### f.Distribution of stars"
      ],
      "metadata": {
        "id": "VSDmIaffcfdz"
      }
    },
    {
      "cell_type": "markdown",
      "source": [
        "#### Distribution of stars for Chipotle"
      ],
      "metadata": {
        "id": "rx9BCke5-pJK"
      }
    },
    {
      "cell_type": "code",
      "source": [
        "# Statistics and Distribution of the stars in Chipotle\n",
        "\n",
        "# Descriptive statistics for 'stars'\n",
        "stars_stats = chipotle_r['stars'].describe()\n",
        "print(\"📊 Statistics for Chipotle Review Stars:\")\n",
        "print(stars_stats)\n",
        "\n",
        "# Visualization - Distribution of 'stars'\n",
        "plt.figure(figsize=(10, 6))\n",
        "sns.countplot(x='stars', data=chipotle_r, palette='viridis')\n",
        "plt.title('Distribution of Review Stars in Chipotle Reviews', fontsize=16)\n",
        "plt.xlabel('Stars (Rating)', fontsize=14)\n",
        "plt.ylabel('Number of Reviews', fontsize=14)\n",
        "plt.grid(axis='y')\n",
        "\n",
        "plt.show()\n",
        "\n",
        "# Pie Chart for better visualization\n",
        "plt.figure(figsize=(8, 8))\n",
        "chipotle_r['stars'].value_counts().sort_index().plot.pie(autopct='%1.1f%%', colors=sns.color_palette('pastel'))\n",
        "plt.title('Proportion of Star Ratings in Chipotle Reviews', fontsize=16)\n",
        "plt.ylabel('')  # Remove y-label for a cleaner look\n",
        "plt.show()"
      ],
      "metadata": {
        "colab": {
          "base_uri": "https://localhost:8080/",
          "height": 1000
        },
        "id": "iS7Ej8ppVcwq",
        "outputId": "93452b9e-4ad4-4936-a22b-0652388a4462"
      },
      "execution_count": null,
      "outputs": [
        {
          "output_type": "stream",
          "name": "stdout",
          "text": [
            "📊 Statistics for Chipotle Review Stars:\n",
            "count    9771.000000\n",
            "mean        2.477945\n",
            "std         1.544363\n",
            "min         1.000000\n",
            "25%         1.000000\n",
            "50%         2.000000\n",
            "75%         4.000000\n",
            "max         5.000000\n",
            "Name: stars, dtype: float64\n"
          ]
        },
        {
          "output_type": "stream",
          "name": "stderr",
          "text": [
            "<ipython-input-42-69defe1cd793>:10: FutureWarning: \n",
            "\n",
            "Passing `palette` without assigning `hue` is deprecated and will be removed in v0.14.0. Assign the `x` variable to `hue` and set `legend=False` for the same effect.\n",
            "\n",
            "  sns.countplot(x='stars', data=chipotle_r, palette='viridis')\n"
          ]
        },
        {
          "output_type": "display_data",
          "data": {
            "text/plain": [
              "<Figure size 1000x600 with 1 Axes>"
            ],
            "image/png": "[encoded data removed]"
          },
          "metadata": {}
        },
        {
          "output_type": "display_data",
          "data": {
            "text/plain": [
              "<Figure size 800x800 with 1 Axes>"
            ],
            "image/png": "[encoded data removed]"
          },
          "metadata": {}
        }
      ]
    },
    {
      "cell_type": "markdown",
      "source": [
        "#### Distribution of stars for Taco Bell"
      ],
      "metadata": {
        "id": "9GLNh6i0-vAH"
      }
    },
    {
      "cell_type": "code",
      "source": [
        "# Statistics and Distribution of the stars in Taco Bell\n",
        "\n",
        "# Descriptive statistics for 'stars'\n",
        "stars_stats_taco = taco_r['stars'].describe()\n",
        "print(\"📊 Statistics for Taco Bell Review Stars:\")\n",
        "print(stars_stats_taco)\n",
        "\n",
        "# Visualization - Distribution of 'stars'\n",
        "plt.figure(figsize=(10, 6))\n",
        "sns.countplot(x='stars', data=taco_r, palette='magma')\n",
        "plt.title('Distribution of Review Stars in Taco Bell Reviews', fontsize=16)\n",
        "plt.xlabel('Stars (Rating)', fontsize=14)\n",
        "plt.ylabel('Number of Reviews', fontsize=14)\n",
        "plt.grid(axis='y')\n",
        "\n",
        "plt.show()\n",
        "\n",
        "# Pie Chart for better visualization\n",
        "plt.figure(figsize=(8, 8))\n",
        "taco_r['stars'].value_counts().sort_index().plot.pie(autopct='%1.1f%%', colors=sns.color_palette('pastel'))\n",
        "plt.title('Proportion of Star Ratings in Taco Bell Reviews', fontsize=16)\n",
        "plt.ylabel('')  # Remove y-label for a cleaner look\n",
        "plt.show()"
      ],
      "metadata": {
        "colab": {
          "base_uri": "https://localhost:8080/",
          "height": 1000
        },
        "id": "UNl-4gI0XPyM",
        "outputId": "775fafa7-0854-4360-b7ef-1162498cc536"
      },
      "execution_count": null,
      "outputs": [
        {
          "output_type": "stream",
          "name": "stdout",
          "text": [
            "📊 Statistics for Taco Bell Review Stars:\n",
            "count    8636.000000\n",
            "mean        2.074919\n",
            "std         1.503462\n",
            "min         1.000000\n",
            "25%         1.000000\n",
            "50%         1.000000\n",
            "75%         3.000000\n",
            "max         5.000000\n",
            "Name: stars, dtype: float64\n"
          ]
        },
        {
          "output_type": "stream",
          "name": "stderr",
          "text": [
            "<ipython-input-44-d9dbec9fecae>:10: FutureWarning: \n",
            "\n",
            "Passing `palette` without assigning `hue` is deprecated and will be removed in v0.14.0. Assign the `x` variable to `hue` and set `legend=False` for the same effect.\n",
            "\n",
            "  sns.countplot(x='stars', data=taco_r, palette='magma')\n"
          ]
        },
        {
          "output_type": "display_data",
          "data": {
            "text/plain": [
              "<Figure size 1000x600 with 1 Axes>"
            ],
            "image/png": "[encoded data removed]"
          },
          "metadata": {}
        },
        {
          "output_type": "display_data",
          "data": {
            "text/plain": [
              "<Figure size 800x800 with 1 Axes>"
            ],
            "image/png": "[encoded data removed]"
          },
          "metadata": {}
        }
      ]
    },
    {
      "cell_type": "markdown",
      "source": [
        "## 5.Data Evaluation"
      ],
      "metadata": {
        "id": "S4BHhnUk_7cP"
      }
    },
    {
      "cell_type": "markdown",
      "source": [
        "### a. How the selected data (e.g., reviews/customers/business/regions) are suitable for answering your business questions:\n",
        "\n",
        "The dataset includes reviews, customer demographics, business attributes, and regional details, making it well-suited for analyzing consumer preferences, business performance, and satisfaction levels. By examining review sentiment, customer feedback, and location-based trends, we can identify factors influencing customer choices, assess brand perception, and detect emerging patterns in consumer behavior. This enables a data-driven approach to understanding market positioning and improving business strategies"
      ],
      "metadata": {
        "id": "CffMx7WJAT9i"
      }
    },
    {
      "cell_type": "markdown",
      "source": [
        "### b.Whether the sample size is appropriate, and why:\n",
        "\n",
        "The dataset size appears sufficient for meaningful statistical analysis. It includes a large volume of reviews, diverse businesses, and customer interactions. Currently we have 9771 reviews from Chipotle and 8636 reviews from Taco Bell. However, sample representativeness should be verified to ensure conclusions apply broadly."
      ],
      "metadata": {
        "id": "ng2yieKuATuK"
      }
    },
    {
      "cell_type": "markdown",
      "source": [
        "### c. Whether the selected data could be biased in certain dimensions in your analysis:\n",
        "\n",
        "Since both Chipotle and Taco Bell are tech-savvy brands with strong online engagement, they are well-represented in Yelp reviews. However, potential biases may still arise from the dataset, such as overrepresentation of younger, tech-savvy customers, polarization of reviews toward extreme opinions, and regional variations in review activity."
      ],
      "metadata": {
        "id": "Keaoxg3rAThq"
      }
    },
    {
      "cell_type": "markdown",
      "source": [
        "### d.The potential challenges to process the data:\n",
        "\n",
        "Challenges include handling missing or inconsistent data, normalizing textual reviews, dealing with duplicates, and computational time associated with large-scale data processing. Sentiment analysis and NLP techniques require careful preprocessing for accuracy."
      ],
      "metadata": {
        "id": "171XIyfAUHHW"
      }
    },
    {
      "cell_type": "markdown",
      "source": [
        "## 6.Preliminary Data Exploration\n",
        "Sentiment Analysis on Textual Data: To understand the overall sentiment on the focal business, we will apply Natural Language Processing (NLP) techniques to analyze customer reviews. Below are the steps involved:\n",
        "\n",
        "Text Preprocessing:\n",
        "\n",
        "Tokenization, stop-word removal, lemmatization, and lowercasing will be performed to clean the textual data.\n",
        "Sentiment Analysis Methods:\n",
        "\n",
        "VADER (Valence Aware Dictionary and sEntiment Reasoner):\n",
        "\n",
        "A rule-based sentiment analyzer suitable for short reviews.\n",
        "TextBlob: A lexicon-based approach that provides polarity and subjectivity scores.\n",
        "\n",
        "Exploratory Visualizations:\n",
        "\n",
        "Distribution of sentiment scores (positive, neutral, and negative reviews).\n",
        "Word clouds to highlight frequently used words in positive and negative reviews.\n",
        "Temporal trends in sentiment to analyze how customer satisfaction changes over time.\n",
        "Expected Insights:\n",
        "\n",
        "Identify the overall sentiment towards the business (positive, negative, or neutral).\n",
        "Recognize key factors contributing to positive and negative feedback.\n",
        "Compare sentiment variations across different business categories or regions.\n",
        "By conducting this sentiment analysis, we aim to uncover valuable insights about customer perceptions and identify potential areas for business improvement."
      ],
      "metadata": {
        "id": "cMOs_phvAiD4"
      }
    },
    {
      "cell_type": "markdown",
      "source": [
        "## 7.Proposed Solution\n",
        "For this project, we plan to use the following machine learning and unstructured data analytics methods:\n",
        "\n",
        "Sentiment Analysis: Utilizing Natural Language Processing (NLP) techniques to assess customer sentiments toward businesses. Techniques like VADER (for rule-based sentiment analysis) or BERT (for deep learning-based sentiment analysis) will be explored.\n",
        "\n",
        "Topic Modeling: Using methods like Latent Dirichlet Allocation (LDA) or Non-negative Matrix Factorization (NMF) to identify key themes and topics in the reviews, such as health, service quality, and pricing.\n",
        "\n",
        "Clustering: Employing K-Means or hierarchical clustering to segment customers or businesses based on review patterns, preferences, and sentiment.\n",
        "\n",
        "Prediction: Leveraging machine learning models (e.g., Random Forest, XGBoost) or deep learning models (e.g., LSTM, BERT) to predict business ratings, sentiment trends, or customer behavior based on review content and customer feedback. These models will provide actionable insights for improving customer experience and business performance.\n",
        "\n",
        "\n",
        "These methods will help extract meaningful insights, improve customer satisfaction predictions, and provide actionable business recommendations."
      ],
      "metadata": {
        "id": "rplNFV6jApUd"
      }
    },
    {
      "cell_type": "code",
      "source": [
        "# Converting to html\n",
        "!pip install jupyter\n",
        "!pip install nbconvert"
      ],
      "metadata": {
        "collapsed": true,
        "id": "YzBiH5c78T9L",
        "colab": {
          "base_uri": "https://localhost:8080/"
        },
        "outputId": "6da9d612-e692-4eb5-cae4-5a900c5d8600"
      },
      "execution_count": null,
      "outputs": [
        {
          "output_type": "stream",
          "name": "stdout",
          "text": [
            "Collecting jupyter\n",
            "  Downloading jupyter-1.1.1-py2.py3-none-any.whl.metadata (2.0 kB)\n",
            "Requirement already satisfied: notebook in /usr/local/lib/python3.11/dist-packages (from jupyter) (6.5.5)\n",
            "Requirement already satisfied: jupyter-console in /usr/local/lib/python3.11/dist-packages (from jupyter) (6.1.0)\n",
            "Requirement already satisfied: nbconvert in /usr/local/lib/python3.11/dist-packages (from jupyter) (7.16.6)\n",
            "Requirement already satisfied: ipykernel in /usr/local/lib/python3.11/dist-packages (from jupyter) (6.17.1)\n",
            "Requirement already satisfied: ipywidgets in /usr/local/lib/python3.11/dist-packages (from jupyter) (7.7.1)\n",
            "Collecting jupyterlab (from jupyter)\n",
            "  Downloading jupyterlab-4.3.5-py3-none-any.whl.metadata (16 kB)\n",
            "Requirement already satisfied: debugpy>=1.0 in /usr/local/lib/python3.11/dist-packages (from ipykernel->jupyter) (1.8.0)\n",
            "Requirement already satisfied: ipython>=7.23.1 in /usr/local/lib/python3.11/dist-packages (from ipykernel->jupyter) (7.34.0)\n",
            "Requirement already satisfied: jupyter-client>=6.1.12 in /usr/local/lib/python3.11/dist-packages (from ipykernel->jupyter) (6.1.12)\n",
            "Requirement already satisfied: matplotlib-inline>=0.1 in /usr/local/lib/python3.11/dist-packages (from ipykernel->jupyter) (0.1.7)\n",
            "Requirement already satisfied: nest-asyncio in /usr/local/lib/python3.11/dist-packages (from ipykernel->jupyter) (1.6.0)\n",
            "Requirement already satisfied: packaging in /usr/local/lib/python3.11/dist-packages (from ipykernel->jupyter) (24.2)\n",
            "Requirement already satisfied: psutil in /usr/local/lib/python3.11/dist-packages (from ipykernel->jupyter) (5.9.5)\n",
            "Requirement already satisfied: pyzmq>=17 in /usr/local/lib/python3.11/dist-packages (from ipykernel->jupyter) (24.0.1)\n",
            "Requirement already satisfied: tornado>=6.1 in /usr/local/lib/python3.11/dist-packages (from ipykernel->jupyter) (6.4.2)\n",
            "Requirement already satisfied: traitlets>=5.1.0 in /usr/local/lib/python3.11/dist-packages (from ipykernel->jupyter) (5.7.1)\n",
            "Requirement already satisfied: ipython-genutils~=0.2.0 in /usr/local/lib/python3.11/dist-packages (from ipywidgets->jupyter) (0.2.0)\n",
            "Requirement already satisfied: widgetsnbextension~=3.6.0 in /usr/local/lib/python3.11/dist-packages (from ipywidgets->jupyter) (3.6.10)\n",
            "Requirement already satisfied: jupyterlab-widgets>=1.0.0 in /usr/local/lib/python3.11/dist-packages (from ipywidgets->jupyter) (3.0.13)\n",
            "Requirement already satisfied: prompt-toolkit!=3.0.0,!=3.0.1,<3.1.0,>=2.0.0 in /usr/local/lib/python3.11/dist-packages (from jupyter-console->jupyter) (3.0.50)\n",
            "Requirement already satisfied: pygments in /usr/local/lib/python3.11/dist-packages (from jupyter-console->jupyter) (2.18.0)\n",
            "Collecting async-lru>=1.0.0 (from jupyterlab->jupyter)\n",
            "  Downloading async_lru-2.0.4-py3-none-any.whl.metadata (4.5 kB)\n",
            "Requirement already satisfied: httpx>=0.25.0 in /usr/local/lib/python3.11/dist-packages (from jupyterlab->jupyter) (0.28.1)\n",
            "Requirement already satisfied: jinja2>=3.0.3 in /usr/local/lib/python3.11/dist-packages (from jupyterlab->jupyter) (3.1.5)\n",
            "Requirement already satisfied: jupyter-core in /usr/local/lib/python3.11/dist-packages (from jupyterlab->jupyter) (5.7.2)\n",
            "Collecting jupyter-lsp>=2.0.0 (from jupyterlab->jupyter)\n",
            "  Downloading jupyter_lsp-2.2.5-py3-none-any.whl.metadata (1.8 kB)\n",
            "Collecting jupyter-server<3,>=2.4.0 (from jupyterlab->jupyter)\n",
            "  Downloading jupyter_server-2.15.0-py3-none-any.whl.metadata (8.4 kB)\n",
            "Collecting jupyterlab-server<3,>=2.27.1 (from jupyterlab->jupyter)\n",
            "  Downloading jupyterlab_server-2.27.3-py3-none-any.whl.metadata (5.9 kB)\n",
            "Requirement already satisfied: notebook-shim>=0.2 in /usr/local/lib/python3.11/dist-packages (from jupyterlab->jupyter) (0.2.4)\n",
            "Requirement already satisfied: setuptools>=40.8.0 in /usr/local/lib/python3.11/dist-packages (from jupyterlab->jupyter) (75.1.0)\n",
            "Requirement already satisfied: beautifulsoup4 in /usr/local/lib/python3.11/dist-packages (from nbconvert->jupyter) (4.13.3)\n",
            "Requirement already satisfied: bleach!=5.0.0 in /usr/local/lib/python3.11/dist-packages (from bleach[css]!=5.0.0->nbconvert->jupyter) (6.2.0)\n",
            "Requirement already satisfied: defusedxml in /usr/local/lib/python3.11/dist-packages (from nbconvert->jupyter) (0.7.1)\n",
            "Requirement already satisfied: jupyterlab-pygments in /usr/local/lib/python3.11/dist-packages (from nbconvert->jupyter) (0.3.0)\n",
            "Requirement already satisfied: markupsafe>=2.0 in /usr/local/lib/python3.11/dist-packages (from nbconvert->jupyter) (3.0.2)\n",
            "Requirement already satisfied: mistune<4,>=2.0.3 in /usr/local/lib/python3.11/dist-packages (from nbconvert->jupyter) (3.1.2)\n",
            "Requirement already satisfied: nbclient>=0.5.0 in /usr/local/lib/python3.11/dist-packages (from nbconvert->jupyter) (0.10.2)\n",
            "Requirement already satisfied: nbformat>=5.7 in /usr/local/lib/python3.11/dist-packages (from nbconvert->jupyter) (5.10.4)\n",
            "Requirement already satisfied: pandocfilters>=1.4.1 in /usr/local/lib/python3.11/dist-packages (from nbconvert->jupyter) (1.5.1)\n",
            "Requirement already satisfied: argon2-cffi in /usr/local/lib/python3.11/dist-packages (from notebook->jupyter) (23.1.0)\n",
            "Requirement already satisfied: Send2Trash>=1.8.0 in /usr/local/lib/python3.11/dist-packages (from notebook->jupyter) (1.8.3)\n",
            "Requirement already satisfied: terminado>=0.8.3 in /usr/local/lib/python3.11/dist-packages (from notebook->jupyter) (0.18.1)\n",
            "Requirement already satisfied: prometheus-client in /usr/local/lib/python3.11/dist-packages (from notebook->jupyter) (0.21.1)\n",
            "Requirement already satisfied: nbclassic>=0.4.7 in /usr/local/lib/python3.11/dist-packages (from notebook->jupyter) (1.2.0)\n",
            "Requirement already satisfied: webencodings in /usr/local/lib/python3.11/dist-packages (from bleach!=5.0.0->bleach[css]!=5.0.0->nbconvert->jupyter) (0.5.1)\n",
            "Requirement already satisfied: tinycss2<1.5,>=1.1.0 in /usr/local/lib/python3.11/dist-packages (from bleach[css]!=5.0.0->nbconvert->jupyter) (1.4.0)\n",
            "Requirement already satisfied: anyio in /usr/local/lib/python3.11/dist-packages (from httpx>=0.25.0->jupyterlab->jupyter) (3.7.1)\n",
            "Requirement already satisfied: certifi in /usr/local/lib/python3.11/dist-packages (from httpx>=0.25.0->jupyterlab->jupyter) (2025.1.31)\n",
            "Requirement already satisfied: httpcore==1.* in /usr/local/lib/python3.11/dist-packages (from httpx>=0.25.0->jupyterlab->jupyter) (1.0.7)\n",
            "Requirement already satisfied: idna in /usr/local/lib/python3.11/dist-packages (from httpx>=0.25.0->jupyterlab->jupyter) (3.10)\n",
            "Requirement already satisfied: h11<0.15,>=0.13 in /usr/local/lib/python3.11/dist-packages (from httpcore==1.*->httpx>=0.25.0->jupyterlab->jupyter) (0.14.0)\n",
            "Collecting jedi>=0.16 (from ipython>=7.23.1->ipykernel->jupyter)\n",
            "  Downloading jedi-0.19.2-py2.py3-none-any.whl.metadata (22 kB)\n",
            "Requirement already satisfied: decorator in /usr/local/lib/python3.11/dist-packages (from ipython>=7.23.1->ipykernel->jupyter) (4.4.2)\n",
            "Requirement already satisfied: pickleshare in /usr/local/lib/python3.11/dist-packages (from ipython>=7.23.1->ipykernel->jupyter) (0.7.5)\n",
            "Requirement already satisfied: backcall in /usr/local/lib/python3.11/dist-packages (from ipython>=7.23.1->ipykernel->jupyter) (0.2.0)\n",
            "Requirement already satisfied: pexpect>4.3 in /usr/local/lib/python3.11/dist-packages (from ipython>=7.23.1->ipykernel->jupyter) (4.9.0)\n",
            "Requirement already satisfied: python-dateutil>=2.1 in /usr/local/lib/python3.11/dist-packages (from jupyter-client>=6.1.12->ipykernel->jupyter) (2.8.2)\n",
            "Requirement already satisfied: platformdirs>=2.5 in /usr/local/lib/python3.11/dist-packages (from jupyter-core->jupyterlab->jupyter) (4.3.6)\n",
            "Collecting jupyter-client>=6.1.12 (from ipykernel->jupyter)\n",
            "  Downloading jupyter_client-7.4.9-py3-none-any.whl.metadata (8.5 kB)\n",
            "Collecting jupyter-events>=0.11.0 (from jupyter-server<3,>=2.4.0->jupyterlab->jupyter)\n",
            "  Downloading jupyter_events-0.12.0-py3-none-any.whl.metadata (5.8 kB)\n",
            "Collecting jupyter-server-terminals>=0.4.4 (from jupyter-server<3,>=2.4.0->jupyterlab->jupyter)\n",
            "  Downloading jupyter_server_terminals-0.5.3-py3-none-any.whl.metadata (5.6 kB)\n",
            "Collecting overrides>=5.0 (from jupyter-server<3,>=2.4.0->jupyterlab->jupyter)\n",
            "  Downloading overrides-7.7.0-py3-none-any.whl.metadata (5.8 kB)\n",
            "Requirement already satisfied: websocket-client>=1.7 in /usr/local/lib/python3.11/dist-packages (from jupyter-server<3,>=2.4.0->jupyterlab->jupyter) (1.8.0)\n",
            "Requirement already satisfied: argon2-cffi-bindings in /usr/local/lib/python3.11/dist-packages (from argon2-cffi->notebook->jupyter) (21.2.0)\n",
            "Requirement already satisfied: entrypoints in /usr/local/lib/python3.11/dist-packages (from jupyter-client>=6.1.12->ipykernel->jupyter) (0.4)\n",
            "Requirement already satisfied: babel>=2.10 in /usr/local/lib/python3.11/dist-packages (from jupyterlab-server<3,>=2.27.1->jupyterlab->jupyter) (2.17.0)\n",
            "Collecting json5>=0.9.0 (from jupyterlab-server<3,>=2.27.1->jupyterlab->jupyter)\n",
            "  Downloading json5-0.10.0-py3-none-any.whl.metadata (34 kB)\n",
            "Requirement already satisfied: jsonschema>=4.18.0 in /usr/local/lib/python3.11/dist-packages (from jupyterlab-server<3,>=2.27.1->jupyterlab->jupyter) (4.23.0)\n",
            "Requirement already satisfied: requests>=2.31 in /usr/local/lib/python3.11/dist-packages (from jupyterlab-server<3,>=2.27.1->jupyterlab->jupyter) (2.32.3)\n",
            "Requirement already satisfied: fastjsonschema>=2.15 in /usr/local/lib/python3.11/dist-packages (from nbformat>=5.7->nbconvert->jupyter) (2.21.1)\n",
            "Requirement already satisfied: wcwidth in /usr/local/lib/python3.11/dist-packages (from prompt-toolkit!=3.0.0,!=3.0.1,<3.1.0,>=2.0.0->jupyter-console->jupyter) (0.2.13)\n",
            "Requirement already satisfied: ptyprocess in /usr/local/lib/python3.11/dist-packages (from terminado>=0.8.3->notebook->jupyter) (0.7.0)\n",
            "Requirement already satisfied: soupsieve>1.2 in /usr/local/lib/python3.11/dist-packages (from beautifulsoup4->nbconvert->jupyter) (2.6)\n",
            "Requirement already satisfied: typing-extensions>=4.0.0 in /usr/local/lib/python3.11/dist-packages (from beautifulsoup4->nbconvert->jupyter) (4.12.2)\n",
            "Requirement already satisfied: sniffio>=1.1 in /usr/local/lib/python3.11/dist-packages (from anyio->httpx>=0.25.0->jupyterlab->jupyter) (1.3.1)\n",
            "Requirement already satisfied: parso<0.9.0,>=0.8.4 in /usr/local/lib/python3.11/dist-packages (from jedi>=0.16->ipython>=7.23.1->ipykernel->jupyter) (0.8.4)\n",
            "Requirement already satisfied: attrs>=22.2.0 in /usr/local/lib/python3.11/dist-packages (from jsonschema>=4.18.0->jupyterlab-server<3,>=2.27.1->jupyterlab->jupyter) (25.1.0)\n",
            "Requirement already satisfied: jsonschema-specifications>=2023.03.6 in /usr/local/lib/python3.11/dist-packages (from jsonschema>=4.18.0->jupyterlab-server<3,>=2.27.1->jupyterlab->jupyter) (2024.10.1)\n",
            "Requirement already satisfied: referencing>=0.28.4 in /usr/local/lib/python3.11/dist-packages (from jsonschema>=4.18.0->jupyterlab-server<3,>=2.27.1->jupyterlab->jupyter) (0.36.2)\n",
            "Requirement already satisfied: rpds-py>=0.7.1 in /usr/local/lib/python3.11/dist-packages (from jsonschema>=4.18.0->jupyterlab-server<3,>=2.27.1->jupyterlab->jupyter) (0.23.1)\n",
            "Collecting python-json-logger>=2.0.4 (from jupyter-events>=0.11.0->jupyter-server<3,>=2.4.0->jupyterlab->jupyter)\n",
            "  Downloading python_json_logger-3.2.1-py3-none-any.whl.metadata (4.1 kB)\n",
            "Requirement already satisfied: pyyaml>=5.3 in /usr/local/lib/python3.11/dist-packages (from jupyter-events>=0.11.0->jupyter-server<3,>=2.4.0->jupyterlab->jupyter) (6.0.2)\n",
            "Collecting rfc3339-validator (from jupyter-events>=0.11.0->jupyter-server<3,>=2.4.0->jupyterlab->jupyter)\n",
            "  Downloading rfc3339_validator-0.1.4-py2.py3-none-any.whl.metadata (1.5 kB)\n",
            "Collecting rfc3986-validator>=0.1.1 (from jupyter-events>=0.11.0->jupyter-server<3,>=2.4.0->jupyterlab->jupyter)\n",
            "  Downloading rfc3986_validator-0.1.1-py2.py3-none-any.whl.metadata (1.7 kB)\n",
            "Requirement already satisfied: six>=1.5 in /usr/local/lib/python3.11/dist-packages (from python-dateutil>=2.1->jupyter-client>=6.1.12->ipykernel->jupyter) (1.17.0)\n",
            "Requirement already satisfied: charset-normalizer<4,>=2 in /usr/local/lib/python3.11/dist-packages (from requests>=2.31->jupyterlab-server<3,>=2.27.1->jupyterlab->jupyter) (3.4.1)\n",
            "Requirement already satisfied: urllib3<3,>=1.21.1 in /usr/local/lib/python3.11/dist-packages (from requests>=2.31->jupyterlab-server<3,>=2.27.1->jupyterlab->jupyter) (2.3.0)\n",
            "Requirement already satisfied: cffi>=1.0.1 in /usr/local/lib/python3.11/dist-packages (from argon2-cffi-bindings->argon2-cffi->notebook->jupyter) (1.17.1)\n",
            "Requirement already satisfied: pycparser in /usr/local/lib/python3.11/dist-packages (from cffi>=1.0.1->argon2-cffi-bindings->argon2-cffi->notebook->jupyter) (2.22)\n",
            "Collecting fqdn (from jsonschema[format-nongpl]>=4.18.0->jupyter-events>=0.11.0->jupyter-server<3,>=2.4.0->jupyterlab->jupyter)\n",
            "  Downloading fqdn-1.5.1-py3-none-any.whl.metadata (1.4 kB)\n",
            "Collecting isoduration (from jsonschema[format-nongpl]>=4.18.0->jupyter-events>=0.11.0->jupyter-server<3,>=2.4.0->jupyterlab->jupyter)\n",
            "  Downloading isoduration-20.11.0-py3-none-any.whl.metadata (5.7 kB)\n",
            "Requirement already satisfied: jsonpointer>1.13 in /usr/local/lib/python3.11/dist-packages (from jsonschema[format-nongpl]>=4.18.0->jupyter-events>=0.11.0->jupyter-server<3,>=2.4.0->jupyterlab->jupyter) (3.0.0)\n",
            "Collecting uri-template (from jsonschema[format-nongpl]>=4.18.0->jupyter-events>=0.11.0->jupyter-server<3,>=2.4.0->jupyterlab->jupyter)\n",
            "  Downloading uri_template-1.3.0-py3-none-any.whl.metadata (8.8 kB)\n",
            "Requirement already satisfied: webcolors>=24.6.0 in /usr/local/lib/python3.11/dist-packages (from jsonschema[format-nongpl]>=4.18.0->jupyter-events>=0.11.0->jupyter-server<3,>=2.4.0->jupyterlab->jupyter) (24.11.1)\n",
            "Collecting arrow>=0.15.0 (from isoduration->jsonschema[format-nongpl]>=4.18.0->jupyter-events>=0.11.0->jupyter-server<3,>=2.4.0->jupyterlab->jupyter)\n",
            "  Downloading arrow-1.3.0-py3-none-any.whl.metadata (7.5 kB)\n",
            "Collecting types-python-dateutil>=2.8.10 (from arrow>=0.15.0->isoduration->jsonschema[format-nongpl]>=4.18.0->jupyter-events>=0.11.0->jupyter-server<3,>=2.4.0->jupyterlab->jupyter)\n",
            "  Downloading types_python_dateutil-2.9.0.20241206-py3-none-any.whl.metadata (2.1 kB)\n",
            "Downloading jupyter-1.1.1-py2.py3-none-any.whl (2.7 kB)\n",
            "Downloading jupyterlab-4.3.5-py3-none-any.whl (11.7 MB)\n",
            "\u001b[2K   \u001b[90m━━━━━━━━━━━━━━━━━━━━━━━━━━━━━━━━━━━━━━━━\u001b[0m \u001b[32m11.7/11.7 MB\u001b[0m \u001b[31m115.0 MB/s\u001b[0m eta \u001b[36m0:00:00\u001b[0m\n",
            "\u001b[?25hDownloading async_lru-2.0.4-py3-none-any.whl (6.1 kB)\n",
            "Downloading jupyter_lsp-2.2.5-py3-none-any.whl (69 kB)\n",
            "\u001b[2K   \u001b[90m━━━━━━━━━━━━━━━━━━━━━━━━━━━━━━━━━━━━━━━━\u001b[0m \u001b[32m69.1/69.1 kB\u001b[0m \u001b[31m8.2 MB/s\u001b[0m eta \u001b[36m0:00:00\u001b[0m\n",
            "\u001b[?25hDownloading jupyter_server-2.15.0-py3-none-any.whl (385 kB)\n",
            "\u001b[2K   \u001b[90m━━━━━━━━━━━━━━━━━━━━━━━━━━━━━━━━━━━━━━━━\u001b[0m \u001b[32m385.8/385.8 kB\u001b[0m \u001b[31m38.3 MB/s\u001b[0m eta \u001b[36m0:00:00\u001b[0m\n",
            "\u001b[?25hDownloading jupyter_client-7.4.9-py3-none-any.whl (133 kB)\n",
            "\u001b[2K   \u001b[90m━━━━━━━━━━━━━━━━━━━━━━━━━━━━━━━━━━━━━━━━\u001b[0m \u001b[32m133.5/133.5 kB\u001b[0m \u001b[31m15.2 MB/s\u001b[0m eta \u001b[36m0:00:00\u001b[0m\n",
            "\u001b[?25hDownloading jupyterlab_server-2.27.3-py3-none-any.whl (59 kB)\n",
            "\u001b[2K   \u001b[90m━━━━━━━━━━━━━━━━━━━━━━━━━━━━━━━━━━━━━━━━\u001b[0m \u001b[32m59.7/59.7 kB\u001b[0m \u001b[31m6.5 MB/s\u001b[0m eta \u001b[36m0:00:00\u001b[0m\n",
            "\u001b[?25hDownloading jedi-0.19.2-py2.py3-none-any.whl (1.6 MB)\n",
            "\u001b[2K   \u001b[90m━━━━━━━━━━━━━━━━━━━━━━━━━━━━━━━━━━━━━━━━\u001b[0m \u001b[32m1.6/1.6 MB\u001b[0m \u001b[31m79.6 MB/s\u001b[0m eta \u001b[36m0:00:00\u001b[0m\n",
            "\u001b[?25hDownloading json5-0.10.0-py3-none-any.whl (34 kB)\n",
            "Downloading jupyter_events-0.12.0-py3-none-any.whl (19 kB)\n",
            "Downloading jupyter_server_terminals-0.5.3-py3-none-any.whl (13 kB)\n",
            "Downloading overrides-7.7.0-py3-none-any.whl (17 kB)\n",
            "Downloading python_json_logger-3.2.1-py3-none-any.whl (14 kB)\n",
            "Downloading rfc3986_validator-0.1.1-py2.py3-none-any.whl (4.2 kB)\n",
            "Downloading rfc3339_validator-0.1.4-py2.py3-none-any.whl (3.5 kB)\n",
            "Downloading fqdn-1.5.1-py3-none-any.whl (9.1 kB)\n",
            "Downloading isoduration-20.11.0-py3-none-any.whl (11 kB)\n",
            "Downloading uri_template-1.3.0-py3-none-any.whl (11 kB)\n",
            "Downloading arrow-1.3.0-py3-none-any.whl (66 kB)\n",
            "\u001b[2K   \u001b[90m━━━━━━━━━━━━━━━━━━━━━━━━━━━━━━━━━━━━━━━━\u001b[0m \u001b[32m66.4/66.4 kB\u001b[0m \u001b[31m8.0 MB/s\u001b[0m eta \u001b[36m0:00:00\u001b[0m\n",
            "\u001b[?25hDownloading types_python_dateutil-2.9.0.20241206-py3-none-any.whl (14 kB)\n",
            "Installing collected packages: uri-template, types-python-dateutil, rfc3986-validator, rfc3339-validator, python-json-logger, overrides, json5, jedi, fqdn, async-lru, jupyter-server-terminals, jupyter-client, arrow, isoduration, jupyter-events, jupyter-server, jupyterlab-server, jupyter-lsp, jupyterlab, jupyter\n",
            "  Attempting uninstall: jupyter-client\n",
            "    Found existing installation: jupyter-client 6.1.12\n",
            "    Uninstalling jupyter-client-6.1.12:\n",
            "      Successfully uninstalled jupyter-client-6.1.12\n",
            "  Attempting uninstall: jupyter-server\n",
            "    Found existing installation: jupyter-server 1.24.0\n",
            "    Uninstalling jupyter-server-1.24.0:\n",
            "      Successfully uninstalled jupyter-server-1.24.0\n",
            "Successfully installed arrow-1.3.0 async-lru-2.0.4 fqdn-1.5.1 isoduration-20.11.0 jedi-0.19.2 json5-0.10.0 jupyter-1.1.1 jupyter-client-7.4.9 jupyter-events-0.12.0 jupyter-lsp-2.2.5 jupyter-server-2.15.0 jupyter-server-terminals-0.5.3 jupyterlab-4.3.5 jupyterlab-server-2.27.3 overrides-7.7.0 python-json-logger-3.2.1 rfc3339-validator-0.1.4 rfc3986-validator-0.1.1 types-python-dateutil-2.9.0.20241206 uri-template-1.3.0\n",
            "Requirement already satisfied: nbconvert in /usr/local/lib/python3.11/dist-packages (7.16.6)\n",
            "Requirement already satisfied: beautifulsoup4 in /usr/local/lib/python3.11/dist-packages (from nbconvert) (4.13.3)\n",
            "Requirement already satisfied: bleach!=5.0.0 in /usr/local/lib/python3.11/dist-packages (from bleach[css]!=5.0.0->nbconvert) (6.2.0)\n",
            "Requirement already satisfied: defusedxml in /usr/local/lib/python3.11/dist-packages (from nbconvert) (0.7.1)\n",
            "Requirement already satisfied: jinja2>=3.0 in /usr/local/lib/python3.11/dist-packages (from nbconvert) (3.1.5)\n",
            "Requirement already satisfied: jupyter-core>=4.7 in /usr/local/lib/python3.11/dist-packages (from nbconvert) (5.7.2)\n",
            "Requirement already satisfied: jupyterlab-pygments in /usr/local/lib/python3.11/dist-packages (from nbconvert) (0.3.0)\n",
            "Requirement already satisfied: markupsafe>=2.0 in /usr/local/lib/python3.11/dist-packages (from nbconvert) (3.0.2)\n",
            "Requirement already satisfied: mistune<4,>=2.0.3 in /usr/local/lib/python3.11/dist-packages (from nbconvert) (3.1.2)\n",
            "Requirement already satisfied: nbclient>=0.5.0 in /usr/local/lib/python3.11/dist-packages (from nbconvert) (0.10.2)\n",
            "Requirement already satisfied: nbformat>=5.7 in /usr/local/lib/python3.11/dist-packages (from nbconvert) (5.10.4)\n",
            "Requirement already satisfied: packaging in /usr/local/lib/python3.11/dist-packages (from nbconvert) (24.2)\n",
            "Requirement already satisfied: pandocfilters>=1.4.1 in /usr/local/lib/python3.11/dist-packages (from nbconvert) (1.5.1)\n",
            "Requirement already satisfied: pygments>=2.4.1 in /usr/local/lib/python3.11/dist-packages (from nbconvert) (2.18.0)\n",
            "Requirement already satisfied: traitlets>=5.1 in /usr/local/lib/python3.11/dist-packages (from nbconvert) (5.7.1)\n",
            "Requirement already satisfied: webencodings in /usr/local/lib/python3.11/dist-packages (from bleach!=5.0.0->bleach[css]!=5.0.0->nbconvert) (0.5.1)\n",
            "Requirement already satisfied: tinycss2<1.5,>=1.1.0 in /usr/local/lib/python3.11/dist-packages (from bleach[css]!=5.0.0->nbconvert) (1.4.0)\n",
            "Requirement already satisfied: platformdirs>=2.5 in /usr/local/lib/python3.11/dist-packages (from jupyter-core>=4.7->nbconvert) (4.3.6)\n",
            "Requirement already satisfied: jupyter-client>=6.1.12 in /usr/local/lib/python3.11/dist-packages (from nbclient>=0.5.0->nbconvert) (7.4.9)\n",
            "Requirement already satisfied: fastjsonschema>=2.15 in /usr/local/lib/python3.11/dist-packages (from nbformat>=5.7->nbconvert) (2.21.1)\n",
            "Requirement already satisfied: jsonschema>=2.6 in /usr/local/lib/python3.11/dist-packages (from nbformat>=5.7->nbconvert) (4.23.0)\n",
            "Requirement already satisfied: soupsieve>1.2 in /usr/local/lib/python3.11/dist-packages (from beautifulsoup4->nbconvert) (2.6)\n",
            "Requirement already satisfied: typing-extensions>=4.0.0 in /usr/local/lib/python3.11/dist-packages (from beautifulsoup4->nbconvert) (4.12.2)\n",
            "Requirement already satisfied: attrs>=22.2.0 in /usr/local/lib/python3.11/dist-packages (from jsonschema>=2.6->nbformat>=5.7->nbconvert) (25.1.0)\n",
            "Requirement already satisfied: jsonschema-specifications>=2023.03.6 in /usr/local/lib/python3.11/dist-packages (from jsonschema>=2.6->nbformat>=5.7->nbconvert) (2024.10.1)\n",
            "Requirement already satisfied: referencing>=0.28.4 in /usr/local/lib/python3.11/dist-packages (from jsonschema>=2.6->nbformat>=5.7->nbconvert) (0.36.2)\n",
            "Requirement already satisfied: rpds-py>=0.7.1 in /usr/local/lib/python3.11/dist-packages (from jsonschema>=2.6->nbformat>=5.7->nbconvert) (0.23.1)\n",
            "Requirement already satisfied: entrypoints in /usr/local/lib/python3.11/dist-packages (from jupyter-client>=6.1.12->nbclient>=0.5.0->nbconvert) (0.4)\n",
            "Requirement already satisfied: nest-asyncio>=1.5.4 in /usr/local/lib/python3.11/dist-packages (from jupyter-client>=6.1.12->nbclient>=0.5.0->nbconvert) (1.6.0)\n",
            "Requirement already satisfied: python-dateutil>=2.8.2 in /usr/local/lib/python3.11/dist-packages (from jupyter-client>=6.1.12->nbclient>=0.5.0->nbconvert) (2.8.2)\n",
            "Requirement already satisfied: pyzmq>=23.0 in /usr/local/lib/python3.11/dist-packages (from jupyter-client>=6.1.12->nbclient>=0.5.0->nbconvert) (24.0.1)\n",
            "Requirement already satisfied: tornado>=6.2 in /usr/local/lib/python3.11/dist-packages (from jupyter-client>=6.1.12->nbclient>=0.5.0->nbconvert) (6.4.2)\n",
            "Requirement already satisfied: six>=1.5 in /usr/local/lib/python3.11/dist-packages (from python-dateutil>=2.8.2->jupyter-client>=6.1.12->nbclient>=0.5.0->nbconvert) (1.17.0)\n"
          ]
        }
      ]
    },
    {
      "cell_type": "code",
      "source": [
        "!jupyter nbconvert '/content/drive/MyDrive/Colab Notebooks/Unstructed data/Project/ProjectEDA_Team212.ipynb' --to html"
      ],
      "metadata": {
        "colab": {
          "base_uri": "https://localhost:8080/"
        },
        "id": "2nbOSF_28lQt",
        "outputId": "345d9f35-f4e0-444d-c891-4a5310703177"
      },
      "execution_count": null,
      "outputs": [
        {
          "output_type": "stream",
          "name": "stdout",
          "text": [
            "[NbConvertApp] Converting notebook /content/drive/MyDrive/Colab Notebooks/Unstructed data/Project/ProjectEDA_Team212.ipynb to html\n",
            "[NbConvertApp] WARNING | Alternative text is missing on 6 image(s).\n",
            "[NbConvertApp] Writing 678134 bytes to /content/drive/MyDrive/Colab Notebooks/Unstructed data/Project/ProjectEDA_Team212.html\n"
          ]
        }
      ]
    },
    {
      "cell_type": "code",
      "source": [
        "# combine 'taco_r' dataset and 'chipotle_r' dataset\n",
        "\n",
        "combined_r = pd.concat([taco_r, chipotle_r], ignore_index=True)\n"
      ],
      "metadata": {
        "id": "-jFCvFNF-Gez"
      },
      "execution_count": null,
      "outputs": []
    },
    {
      "cell_type": "code",
      "source": [
        "# combine 'taco_b' dataset and 'chipotle_b' dataset\n",
        "\n",
        "combined_b = pd.concat([taco_b, chipotle_b], ignore_index=True)"
      ],
      "metadata": {
        "id": "OE3BI9KS2aDr"
      },
      "execution_count": null,
      "outputs": []
    },
    {
      "cell_type": "code",
      "source": [
        "# convert combine_r and combine_b to csv file\n",
        "\n",
        "combined_r.to_csv('/content/drive/MyDrive/Colab Notebooks/Unstructed data/Project/combined_r.csv', index=False)\n",
        "#combined_b.to_csv('/content/drive/MyDrive/Colab Notebooks/Unstructed data/Project/combined_b.csv', index=False)"
      ],
      "metadata": {
        "id": "1_VBJEgC2fjx"
      },
      "execution_count": null,
      "outputs": []
    },
    {
      "cell_type": "code",
      "source": [
        "# convert combine_r and combine_b to excel file\n",
        "\n",
        "combined_r.to_excel('/content/drive/MyDrive/Colab Notebooks/Unstructed data/Project/combined_r.xlsx', index=False)\n",
        "#combined_b.to_excel('/content/drive/MyDrive/Colab Notebooks/Unstructed data/Project/combined_b.xlsx', index=False)"
      ],
      "metadata": {
        "id": "H-mBGXs42y44"
      },
      "execution_count": null,
      "outputs": []
    },
    {
      "cell_type": "code",
      "source": [],
      "metadata": {
        "id": "B_e28dTV25L7"
      },
      "execution_count": null,
      "outputs": []
    }
  ]
}